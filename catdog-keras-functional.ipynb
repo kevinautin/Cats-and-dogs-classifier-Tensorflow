{
 "cells": [
  {
   "cell_type": "code",
   "execution_count": 1,
   "metadata": {
    "scrolled": true
   },
   "outputs": [
    {
     "name": "stderr",
     "output_type": "stream",
     "text": [
      "Using TensorFlow backend.\n"
     ]
    },
    {
     "name": "stdout",
     "output_type": "stream",
     "text": [
      "WARNING:tensorflow:From C:\\Users\\kevinautin\\Anaconda3\\lib\\site-packages\\tensorflow\\contrib\\learn\\python\\learn\\datasets\\base.py:198: retry (from tensorflow.contrib.learn.python.learn.datasets.base) is deprecated and will be removed in a future version.\n",
      "Instructions for updating:\n",
      "Use the retry module or similar alternatives.\n"
     ]
    }
   ],
   "source": [
    "#Imports\n",
    "%matplotlib inline\n",
    "import matplotlib.pyplot as plt\n",
    "import tensorflow as tf\n",
    "import numpy as np\n",
    "import pandas as pd\n",
    "from sklearn.metrics import confusion_matrix\n",
    "from PIL import Image\n",
    "import cv2\n",
    "import os\n",
    "from tqdm import tqdm\n",
    "from random import shuffle\n",
    "import time\n",
    "import math\n",
    "from datetime import timedelta\n",
    "\n",
    "from keras.models import Sequential, Model\n",
    "from keras.layers import InputLayer, Input, Dropout, SpatialDropout2D\n",
    "from keras.layers import Reshape, MaxPooling2D\n",
    "from keras.layers import Conv2D, Dense, Flatten"
   ]
  },
  {
   "cell_type": "code",
   "execution_count": 2,
   "metadata": {},
   "outputs": [],
   "source": [
    "from train_test import *\n",
    "from nnfunc import *"
   ]
  },
  {
   "cell_type": "code",
   "execution_count": 3,
   "metadata": {},
   "outputs": [],
   "source": [
    "def label_img(img):\n",
    "    word_label = img.split('.')[-3]\n",
    "    # conversion to one-hot array [cat,dog]\n",
    "    #                            [much cat, no dog]\n",
    "    if word_label == 'cat': return [1,0]\n",
    "    #                             [no cat, very doggo]\n",
    "    elif word_label == 'dog': return [0,1]"
   ]
  },
  {
   "cell_type": "code",
   "execution_count": 4,
   "metadata": {},
   "outputs": [],
   "source": [
    "# Create the data for the images and labels and save it into a .npy file\n",
    "def create_data():\n",
    "    data = [] \n",
    "    \n",
    "    for img in tqdm(os.listdir(DATA_DIR)):\n",
    "        label = label_img(img)\n",
    "        path = os.path.join(DATA_DIR, img)\n",
    "        img = Image.open(path)\n",
    "        img = np.array(img)\n",
    "        img = cv2.resize(img, (IMG_SIZE_PREPRO, IMG_SIZE_PREPRO))\n",
    "        data.append([np.array(img), np.array(label)])\n",
    "\n",
    "    shuffle(data)\n",
    "    np.save(SAVED_DATA_FILE, data)"
   ]
  },
  {
   "cell_type": "code",
   "execution_count": 5,
   "metadata": {},
   "outputs": [],
   "source": [
    "def split_image_label(data):\n",
    "    images = np.array([i[0] for i in data]).reshape(-1,IMG_SIZE_PREPRO,IMG_SIZE_PREPRO, NB_CHANNELS)\n",
    "    labels = np.array([i[1] for i in data])\n",
    "    return images, labels"
   ]
  },
  {
   "cell_type": "code",
   "execution_count": 6,
   "metadata": {},
   "outputs": [],
   "source": [
    "# Constant values 128-112, 64-60\n",
    "DATA_DIR = 'train/train'\n",
    "SAVED_DATA_FILE = 'data64.npy'\n",
    "BATCH_SIZE = 64\n",
    "IMG_SIZE_PREPRO = 64\n",
    "IMG_SIZE = 9\n",
    "NB_CHANNELS = 3\n",
    "GREYSCALE = False\n",
    "LR = 1e-4"
   ]
  },
  {
   "cell_type": "code",
   "execution_count": 7,
   "metadata": {
    "scrolled": false
   },
   "outputs": [],
   "source": [
    "# Take the images from the folder, extract the label, same all the samples into a .npy file\n",
    "#create_data()"
   ]
  },
  {
   "cell_type": "code",
   "execution_count": 8,
   "metadata": {},
   "outputs": [],
   "source": [
    "# Load the data from the .npy file\n",
    "data = np.load(SAVED_DATA_FILE)"
   ]
  },
  {
   "cell_type": "code",
   "execution_count": 9,
   "metadata": {},
   "outputs": [],
   "source": [
    "# Splitting into train and test set\n",
    "train = data[:20000]\n",
    "test = data[20000:]"
   ]
  },
  {
   "cell_type": "code",
   "execution_count": 10,
   "metadata": {
    "scrolled": false
   },
   "outputs": [],
   "source": [
    "# Separating images and labels\n",
    "train_images, train_labels = split_image_label(train)\n",
    "test_images, test_labels = split_image_label(test)"
   ]
  },
  {
   "cell_type": "code",
   "execution_count": 11,
   "metadata": {},
   "outputs": [],
   "source": [
    "train_images = train_images/255\n",
    "test_images = test_images/255"
   ]
  },
  {
   "cell_type": "code",
   "execution_count": 12,
   "metadata": {
    "scrolled": false
   },
   "outputs": [
    {
     "data": {
      "text/plain": [
       "([array([2462., 2579.]), array([2579., 2462.])],\n",
       " array([0. , 0.5, 1. ]),\n",
       " <a list of 2 Lists of Patches objects>)"
      ]
     },
     "execution_count": 12,
     "metadata": {},
     "output_type": "execute_result"
    },
    {
     "data": {
      "image/png": "[encoded data removed]",
      "text/plain": [
       "<Figure size 432x288 with 1 Axes>"
      ]
     },
     "metadata": {},
     "output_type": "display_data"
    }
   ],
   "source": [
    "plt.hist(test_labels, bins = 2)"
   ]
  },
  {
   "cell_type": "code",
   "execution_count": 13,
   "metadata": {
    "scrolled": false
   },
   "outputs": [
    {
     "name": "stdout",
     "output_type": "stream",
     "text": [
      "True: [1 0]\n"
     ]
    },
    {
     "data": {
      "image/png": "[encoded data removed]",
      "text/plain": [
       "<Figure size 432x288 with 1 Axes>"
      ]
     },
     "metadata": {},
     "output_type": "display_data"
    }
   ],
   "source": [
    "num = 6\n",
    "plot_image(train_images[num], train_labels[num])"
   ]
  },
  {
   "cell_type": "code",
   "execution_count": 14,
   "metadata": {},
   "outputs": [
    {
     "name": "stdout",
     "output_type": "stream",
     "text": [
      "WARNING:tensorflow:From C:\\Users\\kevinautin\\Anaconda3\\lib\\site-packages\\keras\\backend\\tensorflow_backend.py:1208: calling reduce_prod (from tensorflow.python.ops.math_ops) with keep_dims is deprecated and will be removed in a future version.\n",
      "Instructions for updating:\n",
      "keep_dims is deprecated, use keepdims instead\n"
     ]
    }
   ],
   "source": [
    "inputs = Input(shape=(IMG_SIZE_PREPRO, IMG_SIZE_PREPRO, NB_CHANNELS))\n",
    "net = inputs\n",
    "net = Conv2D(32, 5, activation='relu', padding='same', name='layer_conv1')(net)\n",
    "net = MaxPooling2D(pool_size=(2,2), strides=2)(net)\n",
    "net = Conv2D(64, 5, activation='relu', padding='same', name='layer_conv2')(net)\n",
    "net = MaxPooling2D(pool_size=2, strides=2)(net)\n",
    "net = Conv2D(128, 5, activation='relu', padding='same', name='layer_conv3')(net)\n",
    "net = MaxPooling2D(pool_size=2, strides=2)(net)\n",
    "net = Conv2D(256, 5, activation='relu', padding='same', name='layer_conv4')(net)\n",
    "net = MaxPooling2D(pool_size=2, strides=2)(net)\n",
    "net = Flatten()(net)\n",
    "net = Dense(512, activation='relu')(net)\n",
    "net = Dropout(0.5)(net)\n",
    "net = Dense(2, activation='softmax')(net)\n",
    "outputs = net"
   ]
  },
  {
   "cell_type": "code",
   "execution_count": 15,
   "metadata": {},
   "outputs": [],
   "source": [
    "model = Model(inputs=inputs, outputs=outputs)"
   ]
  },
  {
   "cell_type": "code",
   "execution_count": 16,
   "metadata": {},
   "outputs": [
    {
     "name": "stdout",
     "output_type": "stream",
     "text": [
      "WARNING:tensorflow:From C:\\Users\\kevinautin\\Anaconda3\\lib\\site-packages\\keras\\backend\\tensorflow_backend.py:2747: calling reduce_sum (from tensorflow.python.ops.math_ops) with keep_dims is deprecated and will be removed in a future version.\n",
      "Instructions for updating:\n",
      "keep_dims is deprecated, use keepdims instead\n",
      "WARNING:tensorflow:From C:\\Users\\kevinautin\\Anaconda3\\lib\\site-packages\\keras\\backend\\tensorflow_backend.py:1297: calling reduce_mean (from tensorflow.python.ops.math_ops) with keep_dims is deprecated and will be removed in a future version.\n",
      "Instructions for updating:\n",
      "keep_dims is deprecated, use keepdims instead\n"
     ]
    }
   ],
   "source": [
    "model.compile(optimizer='rmsprop',\n",
    "               loss='categorical_crossentropy',\n",
    "               metrics=['accuracy'])"
   ]
  },
  {
   "cell_type": "code",
   "execution_count": null,
   "metadata": {
    "scrolled": true
   },
   "outputs": [
    {
     "name": "stdout",
     "output_type": "stream",
     "text": [
      "Epoch 1/45\n",
      "20000/20000 [==============================] - ETA: 628s - loss: 8.9405 - acc: 0.445 - ETA: 619s - loss: 8.9405 - acc: 0.445 - ETA: 610s - loss: 8.9405 - acc: 0.445 - ETA: 603s - loss: 8.8146 - acc: 0.453 - ETA: 598s - loss: 8.6131 - acc: 0.465 - ETA: 594s - loss: 8.2899 - acc: 0.485 - ETA: 590s - loss: 8.3289 - acc: 0.483 - ETA: 586s - loss: 8.2952 - acc: 0.485 - ETA: 583s - loss: 8.1850 - acc: 0.492 - ETA: 578s - loss: 8.1472 - acc: 0.494 - ETA: 573s - loss: 8.1277 - acc: 0.495 - ETA: 569s - loss: 8.1850 - acc: 0.492 - ETA: 565s - loss: 8.2140 - acc: 0.490 - ETA: 560s - loss: 8.1850 - acc: 0.492 - ETA: 557s - loss: 8.1430 - acc: 0.494 - ETA: 554s - loss: 8.1456 - acc: 0.494 - ETA: 550s - loss: 8.1776 - acc: 0.492 - ETA: 546s - loss: 8.1430 - acc: 0.494 - ETA: 544s - loss: 8.1121 - acc: 0.496 - ETA: 542s - loss: 8.1094 - acc: 0.496 - ETA: 540s - loss: 8.1250 - acc: 0.495 - ETA: 536s - loss: 8.1735 - acc: 0.492 - ETA: 533s - loss: 8.2288 - acc: 0.489 - ETA: 529s - loss: 8.1797 - acc: 0.492 - ETA: 525s - loss: 8.1950 - acc: 0.491 - ETA: 521s - loss: 8.2043 - acc: 0.491 - ETA: 516s - loss: 8.1756 - acc: 0.492 - ETA: 512s - loss: 8.1805 - acc: 0.492 - ETA: 507s - loss: 8.2241 - acc: 0.489 - ETA: 503s - loss: 8.1976 - acc: 0.491 - ETA: 499s - loss: 8.1890 - acc: 0.491 - ETA: 495s - loss: 8.1968 - acc: 0.491 - ETA: 490s - loss: 8.2002 - acc: 0.491 - ETA: 486s - loss: 8.2146 - acc: 0.490 - ETA: 482s - loss: 8.2102 - acc: 0.490 - ETA: 478s - loss: 8.1780 - acc: 0.492 - ETA: 474s - loss: 8.1577 - acc: 0.493 - ETA: 470s - loss: 8.1783 - acc: 0.492 - ETA: 465s - loss: 8.1721 - acc: 0.493 - ETA: 461s - loss: 8.1850 - acc: 0.492 - ETA: 457s - loss: 8.1512 - acc: 0.494 - ETA: 453s - loss: 8.1460 - acc: 0.494 - ETA: 449s - loss: 8.1264 - acc: 0.495 - ETA: 445s - loss: 8.1420 - acc: 0.494 - ETA: 441s - loss: 8.1626 - acc: 0.493 - ETA: 437s - loss: 8.1466 - acc: 0.494 - ETA: 434s - loss: 8.1180 - acc: 0.496 - ETA: 431s - loss: 8.1430 - acc: 0.494 - ETA: 428s - loss: 8.1618 - acc: 0.493 - ETA: 425s - loss: 8.1396 - acc: 0.495 - ETA: 421s - loss: 8.1257 - acc: 0.495 - ETA: 417s - loss: 8.1244 - acc: 0.495 - ETA: 414s - loss: 8.1161 - acc: 0.496 - ETA: 410s - loss: 8.1267 - acc: 0.495 - ETA: 406s - loss: 8.1209 - acc: 0.496 - ETA: 402s - loss: 8.1243 - acc: 0.496 - ETA: 398s - loss: 8.1253 - acc: 0.495 - ETA: 394s - loss: 8.1329 - acc: 0.495 - ETA: 390s - loss: 8.1380 - acc: 0.495 - ETA: 386s - loss: 8.1451 - acc: 0.494 - ETA: 381s - loss: 8.1272 - acc: 0.495 - ETA: 377s - loss: 8.1078 - acc: 0.497 - ETA: 373s - loss: 8.0970 - acc: 0.497 - ETA: 369s - loss: 8.0807 - acc: 0.498 - ETA: 365s - loss: 8.0687 - acc: 0.499 - ETA: 361s - loss: 8.0648 - acc: 0.499 - ETA: 357s - loss: 8.0590 - acc: 0.500 - ETA: 353s - loss: 8.0702 - acc: 0.499 - ETA: 349s - loss: 8.0736 - acc: 0.499 - ETA: 345s - loss: 8.0626 - acc: 0.499 - ETA: 341s - loss: 8.0555 - acc: 0.500 - ETA: 338s - loss: 8.0625 - acc: 0.499 - ETA: 334s - loss: 8.0590 - acc: 0.500 - ETA: 330s - loss: 8.0676 - acc: 0.499 - ETA: 326s - loss: 8.0742 - acc: 0.499 - ETA: 322s - loss: 8.0706 - acc: 0.499 - ETA: 318s - loss: 8.0672 - acc: 0.499 - ETA: 314s - loss: 8.0784 - acc: 0.498 - ETA: 310s - loss: 8.0750 - acc: 0.499 - ETA: 305s - loss: 8.0795 - acc: 0.498 - ETA: 301s - loss: 8.0793 - acc: 0.498 - ETA: 297s - loss: 8.0759 - acc: 0.499 - ETA: 293s - loss: 8.0742 - acc: 0.499 - ETA: 289s - loss: 8.0965 - acc: 0.497 - ETA: 285s - loss: 8.0976 - acc: 0.497 - ETA: 281s - loss: 8.0883 - acc: 0.498 - ETA: 277s - loss: 8.0779 - acc: 0.498 - ETA: 273s - loss: 8.0877 - acc: 0.498 - ETA: 269s - loss: 8.0902 - acc: 0.498 - ETA: 265s - loss: 8.0842 - acc: 0.498 - ETA: 261s - loss: 8.0936 - acc: 0.497 - ETA: 257s - loss: 8.0809 - acc: 0.498 - ETA: 253s - loss: 8.0685 - acc: 0.499 - ETA: 249s - loss: 8.0751 - acc: 0.499 - ETA: 245s - loss: 8.0697 - acc: 0.499 - ETA: 241s - loss: 8.0761 - acc: 0.498 - ETA: 237s - loss: 8.0798 - acc: 0.498 - ETA: 233s - loss: 8.0860 - acc: 0.498 - ETA: 229s - loss: 8.0947 - acc: 0.497 - ETA: 225s - loss: 8.0880 - acc: 0.498 - ETA: 221s - loss: 8.0989 - acc: 0.497 - ETA: 217s - loss: 8.0924 - acc: 0.497 - ETA: 213s - loss: 8.1080 - acc: 0.497 - ETA: 209s - loss: 8.1135 - acc: 0.496 - ETA: 205s - loss: 8.1154 - acc: 0.496 - ETA: 201s - loss: 8.1196 - acc: 0.496 - ETA: 197s - loss: 8.1132 - acc: 0.496 - ETA: 193s - loss: 8.1103 - acc: 0.496 - ETA: 189s - loss: 8.1168 - acc: 0.496 - ETA: 185s - loss: 8.1094 - acc: 0.496 - ETA: 180s - loss: 8.1158 - acc: 0.496 - ETA: 176s - loss: 8.1175 - acc: 0.496 - ETA: 172s - loss: 8.1125 - acc: 0.496 - ETA: 168s - loss: 8.1154 - acc: 0.496 - ETA: 164s - loss: 8.1269 - acc: 0.495 - ETA: 160s - loss: 8.1296 - acc: 0.495 - ETA: 156s - loss: 8.1269 - acc: 0.495 - ETA: 152s - loss: 8.1295 - acc: 0.495 - ETA: 148s - loss: 8.1204 - acc: 0.496 - ETA: 144s - loss: 8.1304 - acc: 0.495 - ETA: 140s - loss: 8.1288 - acc: 0.495 - ETA: 136s - loss: 8.1220 - acc: 0.496 - ETA: 132s - loss: 8.1113 - acc: 0.496 - ETA: 128s - loss: 8.1108 - acc: 0.496 - ETA: 124s - loss: 8.1124 - acc: 0.496 - ETA: 120s - loss: 8.1090 - acc: 0.496 - ETA: 116s - loss: 8.1215 - acc: 0.496 - ETA: 112s - loss: 8.1220 - acc: 0.496 - ETA: 108s - loss: 8.1225 - acc: 0.496 - ETA: 104s - loss: 8.1288 - acc: 0.495 - ETA: 100s - loss: 8.1254 - acc: 0.495 - ETA: 96s - loss: 8.1325 - acc: 0.495 - ETA: 92s - loss: 8.1329 - acc: 0.49 - ETA: 88s - loss: 8.1314 - acc: 0.49 - ETA: 84s - loss: 8.1253 - acc: 0.49 - ETA: 80s - loss: 8.1220 - acc: 0.49 - ETA: 76s - loss: 8.1160 - acc: 0.49 - ETA: 72s - loss: 8.1138 - acc: 0.49 - ETA: 68s - loss: 8.1116 - acc: 0.49 - ETA: 64s - loss: 8.1040 - acc: 0.49 - ETA: 60s - loss: 8.1064 - acc: 0.49 - ETA: 56s - loss: 8.1043 - acc: 0.49 - ETA: 52s - loss: 8.1048 - acc: 0.49 - ETA: 48s - loss: 8.1045 - acc: 0.49 - ETA: 44s - loss: 8.1077 - acc: 0.49 - ETA: 40s - loss: 8.0979 - acc: 0.49 - ETA: 36s - loss: 8.1053 - acc: 0.49 - ETA: 32s - loss: 8.0990 - acc: 0.49 - ETA: 28s - loss: 8.1005 - acc: 0.49 - ETA: 24s - loss: 8.1094 - acc: 0.49 - ETA: 20s - loss: 8.1024 - acc: 0.49 - ETA: 16s - loss: 8.1054 - acc: 0.49 - ETA: 12s - loss: 8.1076 - acc: 0.49 - ETA: 8s - loss: 8.1024 - acc: 0.4973 - ETA: 4s - loss: 8.1021 - acc: 0.497 - ETA: 0s - loss: 8.1067 - acc: 0.497 - 622s - loss: 8.1098 - acc: 0.4969   \n",
      "Epoch 2/45\n"
     ]
    },
    {
     "name": "stdout",
     "output_type": "stream",
     "text": [
      "20000/20000 [==============================] - ETA: 607s - loss: 8.5627 - acc: 0.468 - ETA: 603s - loss: 7.9331 - acc: 0.507 - ETA: 599s - loss: 8.0171 - acc: 0.502 - ETA: 595s - loss: 7.9961 - acc: 0.503 - ETA: 591s - loss: 7.8576 - acc: 0.512 - ETA: 586s - loss: 8.1220 - acc: 0.496 - ETA: 582s - loss: 8.0590 - acc: 0.500 - ETA: 578s - loss: 8.1220 - acc: 0.496 - ETA: 573s - loss: 8.0590 - acc: 0.500 - ETA: 573s - loss: 8.0716 - acc: 0.499 - ETA: 569s - loss: 8.0590 - acc: 0.500 - ETA: 565s - loss: 8.0695 - acc: 0.499 - ETA: 561s - loss: 8.0784 - acc: 0.498 - ETA: 557s - loss: 8.0770 - acc: 0.498 - ETA: 552s - loss: 8.0423 - acc: 0.501 - ETA: 547s - loss: 8.1141 - acc: 0.496 - ETA: 543s - loss: 8.0442 - acc: 0.500 - ETA: 540s - loss: 8.0451 - acc: 0.500 - ETA: 539s - loss: 8.1187 - acc: 0.496 - ETA: 538s - loss: 8.1157 - acc: 0.496 - ETA: 535s - loss: 8.0650 - acc: 0.499 - ETA: 531s - loss: 8.1277 - acc: 0.495 - ETA: 527s - loss: 8.1740 - acc: 0.492 - ETA: 523s - loss: 8.1902 - acc: 0.491 - ETA: 518s - loss: 8.2102 - acc: 0.490 - ETA: 514s - loss: 8.1898 - acc: 0.491 - ETA: 510s - loss: 8.1523 - acc: 0.494 - ETA: 506s - loss: 8.1940 - acc: 0.491 - ETA: 502s - loss: 8.1893 - acc: 0.491 - ETA: 498s - loss: 8.1598 - acc: 0.493 - ETA: 495s - loss: 8.1444 - acc: 0.494 - ETA: 491s - loss: 8.1417 - acc: 0.494 - ETA: 487s - loss: 8.1354 - acc: 0.495 - ETA: 484s - loss: 8.1220 - acc: 0.496 - ETA: 480s - loss: 8.1454 - acc: 0.494 - ETA: 477s - loss: 8.1395 - acc: 0.495 - ETA: 473s - loss: 8.1509 - acc: 0.494 - ETA: 469s - loss: 8.1320 - acc: 0.495 - ETA: 465s - loss: 8.1075 - acc: 0.497 - ETA: 461s - loss: 8.1346 - acc: 0.495 - ETA: 457s - loss: 8.1020 - acc: 0.497 - ETA: 453s - loss: 8.1160 - acc: 0.496 - ETA: 449s - loss: 8.1000 - acc: 0.497 - ETA: 445s - loss: 8.0848 - acc: 0.498 - ETA: 441s - loss: 8.0870 - acc: 0.498 - ETA: 437s - loss: 8.0809 - acc: 0.498 - ETA: 433s - loss: 8.0912 - acc: 0.498 - ETA: 430s - loss: 8.1036 - acc: 0.497 - ETA: 426s - loss: 8.1182 - acc: 0.496 - ETA: 422s - loss: 8.1573 - acc: 0.493 - ETA: 418s - loss: 8.1455 - acc: 0.494 - ETA: 414s - loss: 8.1559 - acc: 0.494 - ETA: 410s - loss: 8.1588 - acc: 0.493 - ETA: 406s - loss: 8.1686 - acc: 0.493 - ETA: 402s - loss: 8.1575 - acc: 0.493 - ETA: 398s - loss: 8.1467 - acc: 0.494 - ETA: 394s - loss: 8.1518 - acc: 0.494 - ETA: 390s - loss: 8.1437 - acc: 0.494 - ETA: 386s - loss: 8.1295 - acc: 0.495 - ETA: 381s - loss: 8.1451 - acc: 0.494 - ETA: 377s - loss: 8.1519 - acc: 0.494 - ETA: 373s - loss: 8.1647 - acc: 0.493 - ETA: 369s - loss: 8.1490 - acc: 0.494 - ETA: 365s - loss: 8.1417 - acc: 0.494 - ETA: 361s - loss: 8.1346 - acc: 0.495 - ETA: 357s - loss: 8.1277 - acc: 0.495 - ETA: 353s - loss: 8.1286 - acc: 0.495 - ETA: 349s - loss: 8.1183 - acc: 0.496 - ETA: 345s - loss: 8.1101 - acc: 0.496 - ETA: 341s - loss: 8.1220 - acc: 0.496 - ETA: 337s - loss: 8.1123 - acc: 0.496 - ETA: 333s - loss: 8.1150 - acc: 0.496 - ETA: 330s - loss: 8.1177 - acc: 0.496 - ETA: 326s - loss: 8.1067 - acc: 0.497 - ETA: 322s - loss: 8.1077 - acc: 0.497 - ETA: 318s - loss: 8.1071 - acc: 0.497 - ETA: 314s - loss: 8.1081 - acc: 0.497 - ETA: 310s - loss: 8.1123 - acc: 0.496 - ETA: 306s - loss: 8.1196 - acc: 0.496 - ETA: 303s - loss: 8.1173 - acc: 0.496 - ETA: 299s - loss: 8.1212 - acc: 0.496 - ETA: 295s - loss: 8.1312 - acc: 0.495 - ETA: 291s - loss: 8.1243 - acc: 0.496 - ETA: 287s - loss: 8.1175 - acc: 0.496 - ETA: 283s - loss: 8.1287 - acc: 0.495 - ETA: 279s - loss: 8.1367 - acc: 0.495 - ETA: 275s - loss: 8.1401 - acc: 0.495 - ETA: 271s - loss: 8.1306 - acc: 0.495 - ETA: 267s - loss: 8.1425 - acc: 0.494 - ETA: 263s - loss: 8.1556 - acc: 0.494 - ETA: 259s - loss: 8.1656 - acc: 0.493 - ETA: 254s - loss: 8.1713 - acc: 0.493 - ETA: 251s - loss: 8.1877 - acc: 0.492 - ETA: 246s - loss: 8.1890 - acc: 0.491 - ETA: 242s - loss: 8.1797 - acc: 0.492 - ETA: 239s - loss: 8.1915 - acc: 0.491 - ETA: 235s - loss: 8.1785 - acc: 0.492 - ETA: 231s - loss: 8.1670 - acc: 0.493 - ETA: 227s - loss: 8.1799 - acc: 0.492 - ETA: 223s - loss: 8.1762 - acc: 0.492 - ETA: 219s - loss: 8.1825 - acc: 0.492 - ETA: 215s - loss: 8.1813 - acc: 0.492 - ETA: 211s - loss: 8.1776 - acc: 0.492 - ETA: 207s - loss: 8.1656 - acc: 0.493 - ETA: 203s - loss: 8.1658 - acc: 0.493 - ETA: 199s - loss: 8.1648 - acc: 0.493 - ETA: 195s - loss: 8.1638 - acc: 0.493 - ETA: 191s - loss: 8.1582 - acc: 0.493 - ETA: 187s - loss: 8.1468 - acc: 0.494 - ETA: 183s - loss: 8.1426 - acc: 0.494 - ETA: 179s - loss: 8.1498 - acc: 0.494 - ETA: 175s - loss: 8.1569 - acc: 0.493 - ETA: 171s - loss: 8.1515 - acc: 0.494 - ETA: 167s - loss: 8.1386 - acc: 0.495 - ETA: 163s - loss: 8.1324 - acc: 0.495 - ETA: 159s - loss: 8.1394 - acc: 0.495 - ETA: 155s - loss: 8.1441 - acc: 0.494 - ETA: 151s - loss: 8.1423 - acc: 0.494 - ETA: 147s - loss: 8.1448 - acc: 0.494 - ETA: 143s - loss: 8.1472 - acc: 0.494 - ETA: 139s - loss: 8.1423 - acc: 0.494 - ETA: 135s - loss: 8.1354 - acc: 0.495 - ETA: 131s - loss: 8.1389 - acc: 0.495 - ETA: 127s - loss: 8.1251 - acc: 0.495 - ETA: 123s - loss: 8.1205 - acc: 0.496 - ETA: 119s - loss: 8.1050 - acc: 0.497 - ETA: 115s - loss: 8.1066 - acc: 0.497 - ETA: 111s - loss: 8.0984 - acc: 0.497 - ETA: 107s - loss: 8.0932 - acc: 0.497 - ETA: 103s - loss: 8.1026 - acc: 0.497 - ETA: 99s - loss: 8.1110 - acc: 0.496 - ETA: 96s - loss: 8.1106 - acc: 0.49 - ETA: 92s - loss: 8.1140 - acc: 0.49 - ETA: 88s - loss: 8.1164 - acc: 0.49 - ETA: 84s - loss: 8.1113 - acc: 0.49 - ETA: 80s - loss: 8.1128 - acc: 0.49 - ETA: 76s - loss: 8.1124 - acc: 0.49 - ETA: 72s - loss: 8.1193 - acc: 0.49 - ETA: 68s - loss: 8.1143 - acc: 0.49 - ETA: 64s - loss: 8.1139 - acc: 0.49 - ETA: 60s - loss: 8.1225 - acc: 0.49 - ETA: 56s - loss: 8.1256 - acc: 0.49 - ETA: 52s - loss: 8.1224 - acc: 0.49 - ETA: 48s - loss: 8.1150 - acc: 0.49 - ETA: 44s - loss: 8.1059 - acc: 0.49 - ETA: 40s - loss: 8.1039 - acc: 0.49 - ETA: 36s - loss: 8.1139 - acc: 0.49 - ETA: 32s - loss: 8.1118 - acc: 0.49 - ETA: 28s - loss: 8.1165 - acc: 0.49 - ETA: 24s - loss: 8.1161 - acc: 0.49 - ETA: 20s - loss: 8.1108 - acc: 0.49 - ETA: 16s - loss: 8.1162 - acc: 0.49 - ETA: 12s - loss: 8.1134 - acc: 0.49 - ETA: 8s - loss: 8.1097 - acc: 0.4969 - ETA: 4s - loss: 8.1151 - acc: 0.496 - ETA: 0s - loss: 8.1083 - acc: 0.496 - 618s - loss: 8.1098 - acc: 0.4969   \n",
      "Epoch 3/45\n"
     ]
    },
    {
     "name": "stdout",
     "output_type": "stream",
     "text": [
      "20000/20000 [==============================] - ETA: 594s - loss: 9.0664 - acc: 0.437 - ETA: 590s - loss: 8.3739 - acc: 0.480 - ETA: 586s - loss: 8.7306 - acc: 0.458 - ETA: 582s - loss: 8.4368 - acc: 0.476 - ETA: 583s - loss: 8.4620 - acc: 0.475 - ETA: 581s - loss: 8.5837 - acc: 0.467 - ETA: 577s - loss: 8.4548 - acc: 0.475 - ETA: 573s - loss: 8.4211 - acc: 0.477 - ETA: 569s - loss: 8.2549 - acc: 0.487 - ETA: 566s - loss: 8.2102 - acc: 0.490 - ETA: 562s - loss: 8.2079 - acc: 0.490 - ETA: 559s - loss: 8.1535 - acc: 0.494 - ETA: 556s - loss: 8.0784 - acc: 0.498 - ETA: 552s - loss: 8.0770 - acc: 0.498 - ETA: 550s - loss: 8.0926 - acc: 0.497 - ETA: 546s - loss: 8.1535 - acc: 0.494 - ETA: 542s - loss: 8.1257 - acc: 0.495 - ETA: 538s - loss: 8.1220 - acc: 0.496 - ETA: 536s - loss: 8.1783 - acc: 0.492 - ETA: 535s - loss: 8.2479 - acc: 0.488 - ETA: 533s - loss: 8.2509 - acc: 0.488 - ETA: 529s - loss: 8.2880 - acc: 0.485 - ETA: 524s - loss: 8.3273 - acc: 0.483 - ETA: 520s - loss: 8.3634 - acc: 0.481 - ETA: 516s - loss: 8.3965 - acc: 0.479 - ETA: 512s - loss: 8.3884 - acc: 0.479 - ETA: 508s - loss: 8.4135 - acc: 0.478 - ETA: 503s - loss: 8.3739 - acc: 0.480 - ETA: 499s - loss: 8.4151 - acc: 0.477 - ETA: 495s - loss: 8.3781 - acc: 0.480 - ETA: 491s - loss: 8.3475 - acc: 0.482 - ETA: 486s - loss: 8.3778 - acc: 0.480 - ETA: 483s - loss: 8.3758 - acc: 0.480 - ETA: 479s - loss: 8.3850 - acc: 0.479 - ETA: 475s - loss: 8.3541 - acc: 0.481 - ETA: 471s - loss: 8.3179 - acc: 0.483 - ETA: 467s - loss: 8.3075 - acc: 0.484 - ETA: 463s - loss: 8.3275 - acc: 0.483 - ETA: 458s - loss: 8.3077 - acc: 0.484 - ETA: 454s - loss: 8.3361 - acc: 0.482 - ETA: 450s - loss: 8.3078 - acc: 0.484 - ETA: 446s - loss: 8.2659 - acc: 0.487 - ETA: 442s - loss: 8.2582 - acc: 0.487 - ETA: 439s - loss: 8.2393 - acc: 0.488 - ETA: 435s - loss: 8.2409 - acc: 0.488 - ETA: 431s - loss: 8.2397 - acc: 0.488 - ETA: 427s - loss: 8.2546 - acc: 0.487 - ETA: 423s - loss: 8.2663 - acc: 0.487 - ETA: 419s - loss: 8.2595 - acc: 0.487 - ETA: 415s - loss: 8.2404 - acc: 0.488 - ETA: 411s - loss: 8.2344 - acc: 0.489 - ETA: 407s - loss: 8.2165 - acc: 0.490 - ETA: 403s - loss: 8.2111 - acc: 0.490 - ETA: 399s - loss: 8.1990 - acc: 0.491 - ETA: 395s - loss: 8.2033 - acc: 0.491 - ETA: 391s - loss: 8.1715 - acc: 0.493 - ETA: 387s - loss: 8.1651 - acc: 0.493 - ETA: 384s - loss: 8.1502 - acc: 0.494 - ETA: 380s - loss: 8.1551 - acc: 0.494 - ETA: 376s - loss: 8.1745 - acc: 0.492 - ETA: 372s - loss: 8.1561 - acc: 0.494 - ETA: 368s - loss: 8.1444 - acc: 0.494 - ETA: 364s - loss: 8.1530 - acc: 0.494 - ETA: 360s - loss: 8.1476 - acc: 0.494 - ETA: 356s - loss: 8.1365 - acc: 0.495 - ETA: 352s - loss: 8.1544 - acc: 0.494 - ETA: 348s - loss: 8.1568 - acc: 0.493 - ETA: 344s - loss: 8.1350 - acc: 0.495 - ETA: 340s - loss: 8.1357 - acc: 0.495 - ETA: 336s - loss: 8.1364 - acc: 0.495 - ETA: 332s - loss: 8.1530 - acc: 0.494 - ETA: 328s - loss: 8.1622 - acc: 0.493 - ETA: 324s - loss: 8.1539 - acc: 0.494 - ETA: 321s - loss: 8.1373 - acc: 0.495 - ETA: 317s - loss: 8.1380 - acc: 0.495 - ETA: 313s - loss: 8.1535 - acc: 0.494 - ETA: 309s - loss: 8.1490 - acc: 0.494 - ETA: 305s - loss: 8.1608 - acc: 0.493 - ETA: 301s - loss: 8.1499 - acc: 0.494 - ETA: 298s - loss: 8.1488 - acc: 0.494 - ETA: 294s - loss: 8.1539 - acc: 0.494 - ETA: 290s - loss: 8.1619 - acc: 0.493 - ETA: 286s - loss: 8.1516 - acc: 0.494 - ETA: 282s - loss: 8.1370 - acc: 0.495 - ETA: 278s - loss: 8.1302 - acc: 0.495 - ETA: 274s - loss: 8.1235 - acc: 0.496 - ETA: 270s - loss: 8.1256 - acc: 0.495 - ETA: 266s - loss: 8.1249 - acc: 0.495 - ETA: 262s - loss: 8.1255 - acc: 0.495 - ETA: 258s - loss: 8.1220 - acc: 0.496 - ETA: 254s - loss: 8.1172 - acc: 0.496 - ETA: 251s - loss: 8.1111 - acc: 0.496 - ETA: 247s - loss: 8.1091 - acc: 0.496 - ETA: 243s - loss: 8.0979 - acc: 0.497 - ETA: 239s - loss: 8.1054 - acc: 0.497 - ETA: 235s - loss: 8.1102 - acc: 0.496 - ETA: 231s - loss: 8.1019 - acc: 0.497 - ETA: 227s - loss: 8.0989 - acc: 0.497 - ETA: 223s - loss: 8.0921 - acc: 0.497 - ETA: 220s - loss: 8.0918 - acc: 0.498 - ETA: 216s - loss: 8.0902 - acc: 0.498 - ETA: 212s - loss: 8.0936 - acc: 0.497 - ETA: 208s - loss: 8.0982 - acc: 0.497 - ETA: 204s - loss: 8.0930 - acc: 0.497 - ETA: 200s - loss: 8.0938 - acc: 0.497 - ETA: 196s - loss: 8.0769 - acc: 0.498 - ETA: 192s - loss: 8.0767 - acc: 0.498 - ETA: 188s - loss: 8.0812 - acc: 0.498 - ETA: 184s - loss: 8.0845 - acc: 0.498 - ETA: 180s - loss: 8.0785 - acc: 0.498 - ETA: 177s - loss: 8.0806 - acc: 0.498 - ETA: 173s - loss: 8.0894 - acc: 0.498 - ETA: 169s - loss: 8.0936 - acc: 0.497 - ETA: 165s - loss: 8.0900 - acc: 0.498 - ETA: 161s - loss: 8.0864 - acc: 0.498 - ETA: 157s - loss: 8.0905 - acc: 0.498 - ETA: 153s - loss: 8.0838 - acc: 0.498 - ETA: 149s - loss: 8.0783 - acc: 0.498 - ETA: 145s - loss: 8.0876 - acc: 0.498 - ETA: 141s - loss: 8.0853 - acc: 0.498 - ETA: 137s - loss: 8.0819 - acc: 0.498 - ETA: 133s - loss: 8.0745 - acc: 0.499 - ETA: 129s - loss: 8.0724 - acc: 0.499 - ETA: 126s - loss: 8.0743 - acc: 0.499 - ETA: 122s - loss: 8.0832 - acc: 0.498 - ETA: 118s - loss: 8.0870 - acc: 0.498 - ETA: 114s - loss: 8.0918 - acc: 0.498 - ETA: 110s - loss: 8.0807 - acc: 0.498 - ETA: 106s - loss: 8.0874 - acc: 0.498 - ETA: 102s - loss: 8.0910 - acc: 0.498 - ETA: 98s - loss: 8.0869 - acc: 0.498 - ETA: 94s - loss: 8.0905 - acc: 0.49 - ETA: 90s - loss: 8.0903 - acc: 0.49 - ETA: 86s - loss: 8.0929 - acc: 0.49 - ETA: 82s - loss: 8.0861 - acc: 0.49 - ETA: 79s - loss: 8.0915 - acc: 0.49 - ETA: 75s - loss: 8.0931 - acc: 0.49 - ETA: 71s - loss: 8.0946 - acc: 0.49 - ETA: 67s - loss: 8.0971 - acc: 0.49 - ETA: 63s - loss: 8.0986 - acc: 0.49 - ETA: 59s - loss: 8.0921 - acc: 0.49 - ETA: 55s - loss: 8.0936 - acc: 0.49 - ETA: 51s - loss: 8.0952 - acc: 0.49 - ETA: 47s - loss: 8.1010 - acc: 0.49 - ETA: 43s - loss: 8.0947 - acc: 0.49 - ETA: 40s - loss: 8.0996 - acc: 0.49 - ETA: 36s - loss: 8.0993 - acc: 0.49 - ETA: 32s - loss: 8.0999 - acc: 0.49 - ETA: 28s - loss: 8.0945 - acc: 0.49 - ETA: 24s - loss: 8.0901 - acc: 0.49 - ETA: 20s - loss: 8.0907 - acc: 0.49 - ETA: 16s - loss: 8.0905 - acc: 0.49 - ETA: 12s - loss: 8.0961 - acc: 0.49 - ETA: 8s - loss: 8.1040 - acc: 0.4972 - ETA: 4s - loss: 8.1110 - acc: 0.496 - ETA: 0s - loss: 8.1115 - acc: 0.496 - 610s - loss: 8.1098 - acc: 0.4969   \n",
      "Epoch 4/45\n"
     ]
    },
    {
     "name": "stdout",
     "output_type": "stream",
     "text": [
      "20000/20000 [==============================] - ETA: 593s - loss: 6.9257 - acc: 0.570 - ETA: 597s - loss: 6.8628 - acc: 0.574 - ETA: 600s - loss: 7.0097 - acc: 0.565 - ETA: 597s - loss: 6.9887 - acc: 0.566 - ETA: 594s - loss: 7.1020 - acc: 0.559 - ETA: 589s - loss: 7.2406 - acc: 0.550 - ETA: 585s - loss: 7.4294 - acc: 0.539 - ETA: 581s - loss: 7.3822 - acc: 0.542 - ETA: 576s - loss: 7.5833 - acc: 0.529 - ETA: 573s - loss: 7.6435 - acc: 0.525 - ETA: 569s - loss: 7.8072 - acc: 0.515 - ETA: 565s - loss: 7.9436 - acc: 0.507 - ETA: 560s - loss: 7.9622 - acc: 0.506 - ETA: 556s - loss: 7.8702 - acc: 0.511 - ETA: 551s - loss: 7.9751 - acc: 0.505 - ETA: 547s - loss: 7.9646 - acc: 0.505 - ETA: 543s - loss: 7.9479 - acc: 0.506 - ETA: 539s - loss: 7.9541 - acc: 0.506 - ETA: 534s - loss: 7.9928 - acc: 0.504 - ETA: 530s - loss: 7.9709 - acc: 0.505 - ETA: 527s - loss: 8.0051 - acc: 0.503 - ETA: 525s - loss: 8.0133 - acc: 0.502 - ETA: 524s - loss: 8.0152 - acc: 0.502 - ETA: 520s - loss: 8.0013 - acc: 0.503 - ETA: 516s - loss: 8.0188 - acc: 0.502 - ETA: 511s - loss: 8.0445 - acc: 0.500 - ETA: 507s - loss: 8.0497 - acc: 0.500 - ETA: 502s - loss: 8.0815 - acc: 0.498 - ETA: 498s - loss: 8.1285 - acc: 0.495 - ETA: 494s - loss: 8.1346 - acc: 0.495 - ETA: 490s - loss: 8.1322 - acc: 0.495 - ETA: 486s - loss: 8.1023 - acc: 0.497 - ETA: 482s - loss: 8.0896 - acc: 0.498 - ETA: 478s - loss: 8.1035 - acc: 0.497 - ETA: 474s - loss: 8.1274 - acc: 0.495 - ETA: 470s - loss: 8.1080 - acc: 0.497 - ETA: 466s - loss: 8.1101 - acc: 0.496 - ETA: 462s - loss: 8.0723 - acc: 0.499 - ETA: 458s - loss: 8.0687 - acc: 0.499 - ETA: 454s - loss: 8.0748 - acc: 0.499 - ETA: 450s - loss: 8.0836 - acc: 0.498 - ETA: 446s - loss: 8.0441 - acc: 0.500 - ETA: 443s - loss: 8.0503 - acc: 0.500 - ETA: 439s - loss: 8.0447 - acc: 0.500 - ETA: 435s - loss: 8.0395 - acc: 0.501 - ETA: 431s - loss: 8.0317 - acc: 0.501 - ETA: 427s - loss: 8.0269 - acc: 0.502 - ETA: 423s - loss: 8.0302 - acc: 0.501 - ETA: 419s - loss: 8.0436 - acc: 0.501 - ETA: 415s - loss: 8.0716 - acc: 0.499 - ETA: 411s - loss: 8.0590 - acc: 0.500 - ETA: 407s - loss: 8.0833 - acc: 0.498 - ETA: 403s - loss: 8.0852 - acc: 0.498 - ETA: 399s - loss: 8.0847 - acc: 0.498 - ETA: 395s - loss: 8.0751 - acc: 0.499 - ETA: 391s - loss: 8.0838 - acc: 0.498 - ETA: 387s - loss: 8.0900 - acc: 0.498 - ETA: 383s - loss: 8.0894 - acc: 0.498 - ETA: 379s - loss: 8.0953 - acc: 0.497 - ETA: 375s - loss: 8.0842 - acc: 0.498 - ETA: 371s - loss: 8.0694 - acc: 0.499 - ETA: 367s - loss: 8.0590 - acc: 0.500 - ETA: 363s - loss: 8.0630 - acc: 0.499 - ETA: 359s - loss: 8.0354 - acc: 0.501 - ETA: 355s - loss: 8.0203 - acc: 0.502 - ETA: 351s - loss: 8.0133 - acc: 0.502 - ETA: 347s - loss: 8.0252 - acc: 0.502 - ETA: 343s - loss: 8.0202 - acc: 0.502 - ETA: 339s - loss: 8.0225 - acc: 0.502 - ETA: 335s - loss: 8.0267 - acc: 0.502 - ETA: 331s - loss: 8.0307 - acc: 0.501 - ETA: 328s - loss: 8.0241 - acc: 0.502 - ETA: 324s - loss: 8.0245 - acc: 0.502 - ETA: 320s - loss: 8.0233 - acc: 0.502 - ETA: 316s - loss: 8.0355 - acc: 0.501 - ETA: 312s - loss: 8.0309 - acc: 0.501 - ETA: 309s - loss: 8.0525 - acc: 0.500 - ETA: 305s - loss: 8.0574 - acc: 0.500 - ETA: 301s - loss: 8.0543 - acc: 0.500 - ETA: 297s - loss: 8.0496 - acc: 0.500 - ETA: 294s - loss: 8.0419 - acc: 0.501 - ETA: 290s - loss: 8.0483 - acc: 0.500 - ETA: 286s - loss: 8.0530 - acc: 0.500 - ETA: 282s - loss: 8.0575 - acc: 0.500 - ETA: 278s - loss: 8.0531 - acc: 0.500 - ETA: 274s - loss: 8.0444 - acc: 0.500 - ETA: 270s - loss: 8.0504 - acc: 0.500 - ETA: 266s - loss: 8.0633 - acc: 0.499 - ETA: 262s - loss: 8.0704 - acc: 0.499 - ETA: 258s - loss: 8.0702 - acc: 0.499 - ETA: 254s - loss: 8.0757 - acc: 0.499 - ETA: 250s - loss: 8.0727 - acc: 0.499 - ETA: 247s - loss: 8.0672 - acc: 0.499 - ETA: 243s - loss: 8.0684 - acc: 0.499 - ETA: 239s - loss: 8.0670 - acc: 0.499 - ETA: 235s - loss: 8.0695 - acc: 0.499 - ETA: 231s - loss: 8.0772 - acc: 0.498 - ETA: 227s - loss: 8.0822 - acc: 0.498 - ETA: 223s - loss: 8.0870 - acc: 0.498 - ETA: 219s - loss: 8.0868 - acc: 0.498 - ETA: 215s - loss: 8.0915 - acc: 0.498 - ETA: 212s - loss: 8.0788 - acc: 0.498 - ETA: 208s - loss: 8.0823 - acc: 0.498 - ETA: 204s - loss: 8.0821 - acc: 0.498 - ETA: 200s - loss: 8.0806 - acc: 0.498 - ETA: 196s - loss: 8.0899 - acc: 0.498 - ETA: 192s - loss: 8.0791 - acc: 0.498 - ETA: 188s - loss: 8.0672 - acc: 0.499 - ETA: 184s - loss: 8.0683 - acc: 0.499 - ETA: 180s - loss: 8.0831 - acc: 0.498 - ETA: 176s - loss: 8.0851 - acc: 0.498 - ETA: 172s - loss: 8.0838 - acc: 0.498 - ETA: 169s - loss: 8.0780 - acc: 0.498 - ETA: 165s - loss: 8.0811 - acc: 0.498 - ETA: 161s - loss: 8.0777 - acc: 0.498 - ETA: 157s - loss: 8.0786 - acc: 0.498 - ETA: 153s - loss: 8.0838 - acc: 0.498 - ETA: 149s - loss: 8.0879 - acc: 0.498 - ETA: 145s - loss: 8.0844 - acc: 0.498 - ETA: 141s - loss: 8.0874 - acc: 0.498 - ETA: 137s - loss: 8.0923 - acc: 0.497 - ETA: 133s - loss: 8.0962 - acc: 0.497 - ETA: 129s - loss: 8.0959 - acc: 0.497 - ETA: 125s - loss: 8.1017 - acc: 0.497 - ETA: 122s - loss: 8.1064 - acc: 0.497 - ETA: 118s - loss: 8.1010 - acc: 0.497 - ETA: 114s - loss: 8.0947 - acc: 0.497 - ETA: 110s - loss: 8.0846 - acc: 0.498 - ETA: 106s - loss: 8.0883 - acc: 0.498 - ETA: 102s - loss: 8.0881 - acc: 0.498 - ETA: 98s - loss: 8.0888 - acc: 0.498 - ETA: 94s - loss: 8.0915 - acc: 0.49 - ETA: 90s - loss: 8.0931 - acc: 0.49 - ETA: 86s - loss: 8.0976 - acc: 0.49 - ETA: 83s - loss: 8.1113 - acc: 0.49 - ETA: 79s - loss: 8.1118 - acc: 0.49 - ETA: 75s - loss: 8.1114 - acc: 0.49 - ETA: 71s - loss: 8.1028 - acc: 0.49 - ETA: 67s - loss: 8.1080 - acc: 0.49 - ETA: 63s - loss: 8.0941 - acc: 0.49 - ETA: 59s - loss: 8.1037 - acc: 0.49 - ETA: 55s - loss: 8.1069 - acc: 0.49 - ETA: 51s - loss: 8.1119 - acc: 0.49 - ETA: 47s - loss: 8.1176 - acc: 0.49 - ETA: 43s - loss: 8.1164 - acc: 0.49 - ETA: 40s - loss: 8.1177 - acc: 0.49 - ETA: 36s - loss: 8.1156 - acc: 0.49 - ETA: 32s - loss: 8.1161 - acc: 0.49 - ETA: 28s - loss: 8.1089 - acc: 0.49 - ETA: 24s - loss: 8.1145 - acc: 0.49 - ETA: 20s - loss: 8.1166 - acc: 0.49 - ETA: 16s - loss: 8.1195 - acc: 0.49 - ETA: 12s - loss: 8.1200 - acc: 0.49 - ETA: 8s - loss: 8.1236 - acc: 0.4960 - ETA: 4s - loss: 8.1135 - acc: 0.496 - ETA: 0s - loss: 8.1099 - acc: 0.496 - 610s - loss: 8.1098 - acc: 0.4969   \n",
      "Epoch 5/45\n"
     ]
    },
    {
     "name": "stdout",
     "output_type": "stream",
     "text": [
      "20000/20000 [==============================] - ETA: 643s - loss: 8.6887 - acc: 0.460 - ETA: 615s - loss: 8.3109 - acc: 0.484 - ETA: 605s - loss: 8.2269 - acc: 0.489 - ETA: 597s - loss: 8.2165 - acc: 0.490 - ETA: 589s - loss: 8.3109 - acc: 0.484 - ETA: 584s - loss: 8.0381 - acc: 0.501 - ETA: 580s - loss: 8.0950 - acc: 0.497 - ETA: 577s - loss: 8.0118 - acc: 0.502 - ETA: 573s - loss: 7.8912 - acc: 0.510 - ETA: 569s - loss: 7.8953 - acc: 0.510 - ETA: 565s - loss: 7.9102 - acc: 0.509 - ETA: 561s - loss: 7.9331 - acc: 0.507 - ETA: 557s - loss: 7.9234 - acc: 0.508 - ETA: 553s - loss: 7.9961 - acc: 0.503 - ETA: 551s - loss: 8.0087 - acc: 0.503 - ETA: 548s - loss: 7.9803 - acc: 0.504 - ETA: 544s - loss: 7.9850 - acc: 0.504 - ETA: 540s - loss: 8.0031 - acc: 0.503 - ETA: 536s - loss: 8.0193 - acc: 0.502 - ETA: 532s - loss: 8.0150 - acc: 0.502 - ETA: 528s - loss: 8.0710 - acc: 0.499 - ETA: 523s - loss: 8.1621 - acc: 0.493 - ETA: 520s - loss: 8.1357 - acc: 0.495 - ETA: 517s - loss: 8.1430 - acc: 0.494 - ETA: 515s - loss: 8.1195 - acc: 0.496 - ETA: 512s - loss: 8.1026 - acc: 0.497 - ETA: 508s - loss: 8.1243 - acc: 0.495 - ETA: 504s - loss: 8.0995 - acc: 0.497 - ETA: 500s - loss: 8.1372 - acc: 0.495 - ETA: 495s - loss: 8.1262 - acc: 0.495 - ETA: 491s - loss: 8.1403 - acc: 0.495 - ETA: 487s - loss: 8.1141 - acc: 0.496 - ETA: 482s - loss: 8.0896 - acc: 0.498 - ETA: 478s - loss: 8.0850 - acc: 0.498 - ETA: 474s - loss: 8.0950 - acc: 0.497 - ETA: 470s - loss: 8.0660 - acc: 0.499 - ETA: 466s - loss: 8.0454 - acc: 0.500 - ETA: 462s - loss: 8.0624 - acc: 0.499 - ETA: 458s - loss: 8.0720 - acc: 0.499 - ETA: 454s - loss: 8.0653 - acc: 0.499 - ETA: 450s - loss: 8.0621 - acc: 0.499 - ETA: 446s - loss: 8.0740 - acc: 0.499 - ETA: 442s - loss: 8.0913 - acc: 0.498 - ETA: 438s - loss: 8.0676 - acc: 0.499 - ETA: 434s - loss: 8.0535 - acc: 0.500 - ETA: 430s - loss: 8.0536 - acc: 0.500 - ETA: 426s - loss: 8.0296 - acc: 0.501 - ETA: 422s - loss: 8.0118 - acc: 0.502 - ETA: 418s - loss: 8.0179 - acc: 0.502 - ETA: 414s - loss: 8.0238 - acc: 0.502 - ETA: 410s - loss: 8.0121 - acc: 0.502 - ETA: 406s - loss: 8.0106 - acc: 0.503 - ETA: 402s - loss: 8.0020 - acc: 0.503 - ETA: 398s - loss: 8.0147 - acc: 0.502 - ETA: 394s - loss: 8.0247 - acc: 0.502 - ETA: 391s - loss: 8.0433 - acc: 0.501 - ETA: 387s - loss: 8.0193 - acc: 0.502 - ETA: 383s - loss: 8.0221 - acc: 0.502 - ETA: 379s - loss: 8.0270 - acc: 0.502 - ETA: 375s - loss: 8.0150 - acc: 0.502 - ETA: 371s - loss: 8.0281 - acc: 0.501 - ETA: 367s - loss: 8.0306 - acc: 0.501 - ETA: 363s - loss: 8.0211 - acc: 0.502 - ETA: 359s - loss: 8.0217 - acc: 0.502 - ETA: 355s - loss: 8.0474 - acc: 0.500 - ETA: 351s - loss: 8.0571 - acc: 0.500 - ETA: 347s - loss: 8.0703 - acc: 0.499 - ETA: 343s - loss: 8.0646 - acc: 0.499 - ETA: 340s - loss: 8.0499 - acc: 0.500 - ETA: 336s - loss: 8.0590 - acc: 0.500 - ETA: 332s - loss: 8.0626 - acc: 0.499 - ETA: 328s - loss: 8.0713 - acc: 0.499 - ETA: 324s - loss: 8.0763 - acc: 0.498 - ETA: 320s - loss: 8.0659 - acc: 0.499 - ETA: 316s - loss: 8.0557 - acc: 0.500 - ETA: 312s - loss: 8.0624 - acc: 0.499 - ETA: 308s - loss: 8.0492 - acc: 0.500 - ETA: 304s - loss: 8.0558 - acc: 0.500 - ETA: 301s - loss: 8.0463 - acc: 0.500 - ETA: 297s - loss: 8.0370 - acc: 0.501 - ETA: 293s - loss: 8.0326 - acc: 0.501 - ETA: 290s - loss: 8.0207 - acc: 0.502 - ETA: 286s - loss: 8.0257 - acc: 0.502 - ETA: 282s - loss: 8.0321 - acc: 0.501 - ETA: 278s - loss: 8.0131 - acc: 0.502 - ETA: 274s - loss: 8.0166 - acc: 0.502 - ETA: 270s - loss: 8.0171 - acc: 0.502 - ETA: 266s - loss: 8.0261 - acc: 0.502 - ETA: 262s - loss: 8.0223 - acc: 0.502 - ETA: 258s - loss: 8.0185 - acc: 0.502 - ETA: 254s - loss: 8.0355 - acc: 0.501 - ETA: 250s - loss: 8.0371 - acc: 0.501 - ETA: 246s - loss: 8.0360 - acc: 0.501 - ETA: 243s - loss: 8.0483 - acc: 0.500 - ETA: 239s - loss: 8.0418 - acc: 0.501 - ETA: 235s - loss: 8.0472 - acc: 0.500 - ETA: 231s - loss: 8.0500 - acc: 0.500 - ETA: 227s - loss: 8.0565 - acc: 0.500 - ETA: 223s - loss: 8.0590 - acc: 0.500 - ETA: 219s - loss: 8.0490 - acc: 0.500 - ETA: 215s - loss: 8.0366 - acc: 0.501 - ETA: 211s - loss: 8.0418 - acc: 0.501 - ETA: 207s - loss: 8.0383 - acc: 0.501 - ETA: 204s - loss: 8.0288 - acc: 0.501 - ETA: 200s - loss: 8.0315 - acc: 0.501 - ETA: 196s - loss: 8.0436 - acc: 0.501 - ETA: 192s - loss: 8.0520 - acc: 0.500 - ETA: 188s - loss: 8.0521 - acc: 0.500 - ETA: 184s - loss: 8.0417 - acc: 0.501 - ETA: 180s - loss: 8.0499 - acc: 0.500 - ETA: 176s - loss: 8.0568 - acc: 0.500 - ETA: 172s - loss: 8.0579 - acc: 0.500 - ETA: 169s - loss: 8.0646 - acc: 0.499 - ETA: 165s - loss: 8.0657 - acc: 0.499 - ETA: 161s - loss: 8.0667 - acc: 0.499 - ETA: 157s - loss: 8.0775 - acc: 0.498 - ETA: 153s - loss: 8.0795 - acc: 0.498 - ETA: 149s - loss: 8.0825 - acc: 0.498 - ETA: 145s - loss: 8.0844 - acc: 0.498 - ETA: 141s - loss: 8.0790 - acc: 0.498 - ETA: 137s - loss: 8.0809 - acc: 0.498 - ETA: 133s - loss: 8.0900 - acc: 0.498 - ETA: 129s - loss: 8.0846 - acc: 0.498 - ETA: 125s - loss: 8.0915 - acc: 0.498 - ETA: 122s - loss: 8.0943 - acc: 0.497 - ETA: 118s - loss: 8.0890 - acc: 0.498 - ETA: 114s - loss: 8.0947 - acc: 0.497 - ETA: 110s - loss: 8.1014 - acc: 0.497 - ETA: 106s - loss: 8.1030 - acc: 0.497 - ETA: 102s - loss: 8.1065 - acc: 0.497 - ETA: 98s - loss: 8.1061 - acc: 0.497 - ETA: 94s - loss: 8.1020 - acc: 0.49 - ETA: 90s - loss: 8.1026 - acc: 0.49 - ETA: 86s - loss: 8.1098 - acc: 0.49 - ETA: 82s - loss: 8.1085 - acc: 0.49 - ETA: 79s - loss: 8.1137 - acc: 0.49 - ETA: 75s - loss: 8.1087 - acc: 0.49 - ETA: 71s - loss: 8.1138 - acc: 0.49 - ETA: 67s - loss: 8.1125 - acc: 0.49 - ETA: 63s - loss: 8.1112 - acc: 0.49 - ETA: 59s - loss: 8.1091 - acc: 0.49 - ETA: 55s - loss: 8.1069 - acc: 0.49 - ETA: 51s - loss: 8.1101 - acc: 0.49 - ETA: 47s - loss: 8.1089 - acc: 0.49 - ETA: 43s - loss: 8.1059 - acc: 0.49 - ETA: 39s - loss: 8.1073 - acc: 0.49 - ETA: 36s - loss: 8.1087 - acc: 0.49 - ETA: 32s - loss: 8.1084 - acc: 0.49 - ETA: 28s - loss: 8.1098 - acc: 0.49 - ETA: 24s - loss: 8.1136 - acc: 0.49 - ETA: 20s - loss: 8.1099 - acc: 0.49 - ETA: 16s - loss: 8.1088 - acc: 0.49 - ETA: 12s - loss: 8.1117 - acc: 0.49 - ETA: 8s - loss: 8.1155 - acc: 0.4965 - ETA: 4s - loss: 8.1216 - acc: 0.496 - ETA: 0s - loss: 8.1115 - acc: 0.496 - 609s - loss: 8.1098 - acc: 0.4969   \n",
      "Epoch 6/45\n"
     ]
    },
    {
     "name": "stdout",
     "output_type": "stream",
     "text": [
      "20000/20000 [==============================] - ETA: 606s - loss: 7.3035 - acc: 0.546 - ETA: 635s - loss: 7.1146 - acc: 0.558 - ETA: 640s - loss: 7.7652 - acc: 0.518 - ETA: 628s - loss: 7.8702 - acc: 0.511 - ETA: 619s - loss: 7.6057 - acc: 0.528 - ETA: 610s - loss: 7.5973 - acc: 0.528 - ETA: 604s - loss: 7.7173 - acc: 0.521 - ETA: 597s - loss: 7.8544 - acc: 0.512 - ETA: 591s - loss: 7.9051 - acc: 0.509 - ETA: 586s - loss: 7.8324 - acc: 0.514 - ETA: 581s - loss: 7.9675 - acc: 0.505 - ETA: 576s - loss: 7.8177 - acc: 0.515 - ETA: 571s - loss: 7.7975 - acc: 0.516 - ETA: 566s - loss: 7.7982 - acc: 0.516 - ETA: 561s - loss: 7.8744 - acc: 0.511 - ETA: 556s - loss: 7.8151 - acc: 0.515 - ETA: 551s - loss: 7.8368 - acc: 0.513 - ETA: 547s - loss: 7.8352 - acc: 0.513 - ETA: 542s - loss: 7.8337 - acc: 0.514 - ETA: 537s - loss: 7.8261 - acc: 0.514 - ETA: 533s - loss: 7.8492 - acc: 0.513 - ETA: 528s - loss: 7.8015 - acc: 0.516 - ETA: 524s - loss: 7.7853 - acc: 0.517 - ETA: 519s - loss: 7.8334 - acc: 0.514 - ETA: 515s - loss: 7.8425 - acc: 0.513 - ETA: 511s - loss: 7.8653 - acc: 0.512 - ETA: 509s - loss: 7.8912 - acc: 0.510 - ETA: 507s - loss: 7.8792 - acc: 0.511 - ETA: 503s - loss: 7.8637 - acc: 0.512 - ETA: 499s - loss: 7.8702 - acc: 0.511 - ETA: 494s - loss: 7.8763 - acc: 0.511 - ETA: 490s - loss: 7.9134 - acc: 0.509 - ETA: 486s - loss: 7.9064 - acc: 0.509 - ETA: 481s - loss: 7.8887 - acc: 0.510 - ETA: 477s - loss: 7.9079 - acc: 0.509 - ETA: 473s - loss: 7.9086 - acc: 0.509 - ETA: 469s - loss: 7.9195 - acc: 0.508 - ETA: 465s - loss: 7.9000 - acc: 0.509 - ETA: 461s - loss: 7.8815 - acc: 0.511 - ETA: 457s - loss: 7.8733 - acc: 0.511 - ETA: 453s - loss: 7.8502 - acc: 0.513 - ETA: 449s - loss: 7.8462 - acc: 0.513 - ETA: 445s - loss: 7.8599 - acc: 0.512 - ETA: 441s - loss: 7.8673 - acc: 0.511 - ETA: 437s - loss: 7.8716 - acc: 0.511 - ETA: 433s - loss: 7.8756 - acc: 0.511 - ETA: 429s - loss: 7.8769 - acc: 0.511 - ETA: 425s - loss: 7.9121 - acc: 0.509 - ETA: 421s - loss: 7.9177 - acc: 0.508 - ETA: 417s - loss: 7.9130 - acc: 0.509 - ETA: 413s - loss: 7.9208 - acc: 0.508 - ETA: 409s - loss: 7.9355 - acc: 0.507 - ETA: 405s - loss: 7.9426 - acc: 0.507 - ETA: 401s - loss: 7.9658 - acc: 0.505 - ETA: 397s - loss: 7.9881 - acc: 0.504 - ETA: 393s - loss: 7.9893 - acc: 0.504 - ETA: 389s - loss: 7.9795 - acc: 0.504 - ETA: 385s - loss: 7.9896 - acc: 0.504 - ETA: 381s - loss: 7.9972 - acc: 0.503 - ETA: 377s - loss: 8.0045 - acc: 0.503 - ETA: 373s - loss: 8.0136 - acc: 0.502 - ETA: 369s - loss: 8.0164 - acc: 0.502 - ETA: 365s - loss: 8.0191 - acc: 0.502 - ETA: 361s - loss: 8.0197 - acc: 0.502 - ETA: 357s - loss: 8.0261 - acc: 0.502 - ETA: 353s - loss: 8.0247 - acc: 0.502 - ETA: 349s - loss: 8.0233 - acc: 0.502 - ETA: 345s - loss: 8.0313 - acc: 0.501 - ETA: 341s - loss: 8.0152 - acc: 0.502 - ETA: 337s - loss: 8.0195 - acc: 0.502 - ETA: 333s - loss: 8.0147 - acc: 0.502 - ETA: 329s - loss: 8.0118 - acc: 0.502 - ETA: 325s - loss: 8.0194 - acc: 0.502 - ETA: 321s - loss: 8.0284 - acc: 0.501 - ETA: 317s - loss: 8.0288 - acc: 0.501 - ETA: 313s - loss: 8.0309 - acc: 0.501 - ETA: 309s - loss: 8.0263 - acc: 0.502 - ETA: 305s - loss: 8.0429 - acc: 0.501 - ETA: 301s - loss: 8.0192 - acc: 0.502 - ETA: 298s - loss: 8.0339 - acc: 0.501 - ETA: 294s - loss: 8.0342 - acc: 0.501 - ETA: 290s - loss: 8.0283 - acc: 0.501 - ETA: 287s - loss: 8.0333 - acc: 0.501 - ETA: 283s - loss: 8.0321 - acc: 0.501 - ETA: 279s - loss: 8.0131 - acc: 0.502 - ETA: 275s - loss: 8.0224 - acc: 0.502 - ETA: 271s - loss: 8.0055 - acc: 0.503 - ETA: 267s - loss: 8.0061 - acc: 0.503 - ETA: 263s - loss: 7.9940 - acc: 0.504 - ETA: 259s - loss: 7.9933 - acc: 0.504 - ETA: 255s - loss: 8.0037 - acc: 0.503 - ETA: 251s - loss: 7.9933 - acc: 0.504 - ETA: 247s - loss: 7.9900 - acc: 0.504 - ETA: 243s - loss: 7.9773 - acc: 0.505 - ETA: 239s - loss: 7.9689 - acc: 0.505 - ETA: 236s - loss: 7.9659 - acc: 0.505 - ETA: 232s - loss: 7.9786 - acc: 0.505 - ETA: 228s - loss: 7.9742 - acc: 0.505 - ETA: 224s - loss: 7.9802 - acc: 0.504 - ETA: 220s - loss: 7.9873 - acc: 0.504 - ETA: 216s - loss: 8.0054 - acc: 0.503 - ETA: 212s - loss: 7.9973 - acc: 0.503 - ETA: 208s - loss: 8.0065 - acc: 0.503 - ETA: 204s - loss: 8.0046 - acc: 0.503 - ETA: 200s - loss: 8.0135 - acc: 0.502 - ETA: 196s - loss: 8.0068 - acc: 0.503 - ETA: 193s - loss: 8.0096 - acc: 0.503 - ETA: 189s - loss: 8.0194 - acc: 0.502 - ETA: 185s - loss: 8.0302 - acc: 0.501 - ETA: 181s - loss: 8.0316 - acc: 0.501 - ETA: 177s - loss: 8.0364 - acc: 0.501 - ETA: 173s - loss: 8.0478 - acc: 0.500 - ETA: 169s - loss: 8.0668 - acc: 0.499 - ETA: 165s - loss: 8.0668 - acc: 0.499 - ETA: 161s - loss: 8.0744 - acc: 0.499 - ETA: 157s - loss: 8.0797 - acc: 0.498 - ETA: 153s - loss: 8.0870 - acc: 0.498 - ETA: 149s - loss: 8.0889 - acc: 0.498 - ETA: 145s - loss: 8.0792 - acc: 0.498 - ETA: 142s - loss: 8.0853 - acc: 0.498 - ETA: 138s - loss: 8.0913 - acc: 0.498 - ETA: 134s - loss: 8.0859 - acc: 0.498 - ETA: 130s - loss: 8.0918 - acc: 0.498 - ETA: 126s - loss: 8.0915 - acc: 0.498 - ETA: 122s - loss: 8.0933 - acc: 0.497 - ETA: 118s - loss: 8.0980 - acc: 0.497 - ETA: 114s - loss: 8.0878 - acc: 0.498 - ETA: 110s - loss: 8.0856 - acc: 0.498 - ETA: 106s - loss: 8.0913 - acc: 0.498 - ETA: 102s - loss: 8.0968 - acc: 0.497 - ETA: 98s - loss: 8.0917 - acc: 0.498 - ETA: 94s - loss: 8.1020 - acc: 0.49 - ETA: 91s - loss: 8.1064 - acc: 0.49 - ETA: 87s - loss: 8.1013 - acc: 0.49 - ETA: 83s - loss: 8.1001 - acc: 0.49 - ETA: 79s - loss: 8.0998 - acc: 0.49 - ETA: 75s - loss: 8.1032 - acc: 0.49 - ETA: 71s - loss: 8.1010 - acc: 0.49 - ETA: 67s - loss: 8.1071 - acc: 0.49 - ETA: 63s - loss: 8.1085 - acc: 0.49 - ETA: 59s - loss: 8.0992 - acc: 0.49 - ETA: 55s - loss: 8.1007 - acc: 0.49 - ETA: 51s - loss: 8.0987 - acc: 0.49 - ETA: 47s - loss: 8.1019 - acc: 0.49 - ETA: 43s - loss: 8.1016 - acc: 0.49 - ETA: 40s - loss: 8.0970 - acc: 0.49 - ETA: 36s - loss: 8.1002 - acc: 0.49 - ETA: 32s - loss: 8.1109 - acc: 0.49 - ETA: 28s - loss: 8.1123 - acc: 0.49 - ETA: 24s - loss: 8.1153 - acc: 0.49 - ETA: 20s - loss: 8.1158 - acc: 0.49 - ETA: 16s - loss: 8.1121 - acc: 0.49 - ETA: 12s - loss: 8.1117 - acc: 0.49 - ETA: 8s - loss: 8.1032 - acc: 0.4973 - ETA: 4s - loss: 8.1078 - acc: 0.497 - ETA: 0s - loss: 8.1115 - acc: 0.496 - 610s - loss: 8.1098 - acc: 0.4969   \n",
      "Epoch 7/45\n"
     ]
    },
    {
     "name": "stdout",
     "output_type": "stream",
     "text": [
      " 8064/20000 [===========>..................] - ETA: 608s - loss: 8.3109 - acc: 0.484 - ETA: 603s - loss: 8.2479 - acc: 0.488 - ETA: 598s - loss: 8.1430 - acc: 0.494 - ETA: 605s - loss: 7.9646 - acc: 0.505 - ETA: 611s - loss: 8.1850 - acc: 0.492 - ETA: 612s - loss: 8.1220 - acc: 0.496 - ETA: 603s - loss: 8.2209 - acc: 0.490 - ETA: 596s - loss: 8.1692 - acc: 0.493 - ETA: 590s - loss: 8.2689 - acc: 0.487 - ETA: 587s - loss: 8.1976 - acc: 0.491 - ETA: 581s - loss: 8.1964 - acc: 0.491 - ETA: 575s - loss: 8.1745 - acc: 0.492 - ETA: 570s - loss: 8.2140 - acc: 0.490 - ETA: 564s - loss: 8.1850 - acc: 0.492 - ETA: 559s - loss: 8.1766 - acc: 0.492 - ETA: 555s - loss: 8.1771 - acc: 0.492 - ETA: 550s - loss: 8.2368 - acc: 0.489 - ETA: 545s - loss: 8.2549 - acc: 0.487 - ETA: 540s - loss: 8.1850 - acc: 0.492 - ETA: 536s - loss: 8.1976 - acc: 0.491 - ETA: 531s - loss: 8.1790 - acc: 0.492 - ETA: 527s - loss: 8.1792 - acc: 0.492 - ETA: 522s - loss: 8.1904 - acc: 0.491 - ETA: 518s - loss: 8.1587 - acc: 0.493 - ETA: 513s - loss: 8.1900 - acc: 0.491 - ETA: 509s - loss: 8.1801 - acc: 0.492 - ETA: 505s - loss: 8.1570 - acc: 0.493 - ETA: 501s - loss: 8.1625 - acc: 0.493 - ETA: 498s - loss: 8.1459 - acc: 0.494 - ETA: 496s - loss: 8.1472 - acc: 0.494 - ETA: 493s - loss: 8.1525 - acc: 0.494 - ETA: 489s - loss: 8.1181 - acc: 0.496 - ETA: 484s - loss: 8.0972 - acc: 0.497 - ETA: 480s - loss: 8.1294 - acc: 0.495 - ETA: 477s - loss: 8.1058 - acc: 0.497 - ETA: 473s - loss: 8.0940 - acc: 0.497 - ETA: 468s - loss: 8.0795 - acc: 0.498 - ETA: 464s - loss: 8.0590 - acc: 0.500 - ETA: 460s - loss: 8.0429 - acc: 0.501 - ETA: 456s - loss: 8.0213 - acc: 0.502 - ETA: 452s - loss: 8.0191 - acc: 0.502 - ETA: 448s - loss: 8.0231 - acc: 0.502 - ETA: 444s - loss: 8.0415 - acc: 0.501 - ETA: 440s - loss: 8.0676 - acc: 0.499 - ETA: 436s - loss: 8.0674 - acc: 0.499 - ETA: 432s - loss: 8.0590 - acc: 0.500 - ETA: 428s - loss: 8.0510 - acc: 0.500 - ETA: 424s - loss: 8.0643 - acc: 0.499 - ETA: 420s - loss: 8.0565 - acc: 0.500 - ETA: 416s - loss: 8.0439 - acc: 0.500 - ETA: 412s - loss: 8.0418 - acc: 0.501 - ETA: 408s - loss: 8.0130 - acc: 0.502 - ETA: 404s - loss: 8.0377 - acc: 0.501 - ETA: 400s - loss: 8.0614 - acc: 0.499 - ETA: 396s - loss: 8.0980 - acc: 0.497 - ETA: 392s - loss: 8.1153 - acc: 0.496 - ETA: 388s - loss: 8.0966 - acc: 0.497 - ETA: 384s - loss: 8.0786 - acc: 0.498 - ETA: 380s - loss: 8.0911 - acc: 0.498 - ETA: 376s - loss: 8.1010 - acc: 0.497 - ETA: 372s - loss: 8.0983 - acc: 0.497 - ETA: 368s - loss: 8.0834 - acc: 0.498 - ETA: 364s - loss: 8.0790 - acc: 0.4988"
     ]
    }
   ],
   "source": [
    "model.fit(x=train_images, y=train_labels, verbose=1, epochs=45, batch_size=128)"
   ]
  },
  {
   "cell_type": "code",
   "execution_count": null,
   "metadata": {},
   "outputs": [],
   "source": [
    "result = model.evaluate(x=test_images, y=test_labels)"
   ]
  },
  {
   "cell_type": "code",
   "execution_count": null,
   "metadata": {},
   "outputs": [],
   "source": [
    "for name, value in zip(model.metrics_names, result):\n",
    "    print(name, value)"
   ]
  }
 ],
 "metadata": {
  "kernelspec": {
   "display_name": "Python 3",
   "language": "python",
   "name": "python3"
  },
  "language_info": {
   "codemirror_mode": {
    "name": "ipython",
    "version": 3
   },
   "file_extension": ".py",
   "mimetype": "text/x-python",
   "name": "python",
   "nbconvert_exporter": "python",
   "pygments_lexer": "ipython3",
   "version": "3.5.5"
  }
 },
 "nbformat": 4,
 "nbformat_minor": 2
}

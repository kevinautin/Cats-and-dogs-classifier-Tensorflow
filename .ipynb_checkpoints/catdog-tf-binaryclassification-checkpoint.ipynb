{
 "cells": [
  {
   "cell_type": "code",
   "execution_count": 1,
   "metadata": {
    "scrolled": true
   },
   "outputs": [
    {
     "name": "stdout",
     "output_type": "stream",
     "text": [
      "WARNING:tensorflow:From C:\\Users\\kevinautin\\Anaconda3\\lib\\site-packages\\tensorflow\\contrib\\learn\\python\\learn\\datasets\\base.py:198: retry (from tensorflow.contrib.learn.python.learn.datasets.base) is deprecated and will be removed in a future version.\n",
      "Instructions for updating:\n",
      "Use the retry module or similar alternatives.\n"
     ]
    }
   ],
   "source": [
    "#Imports\n",
    "%matplotlib inline\n",
    "import matplotlib.pyplot as plt\n",
    "import tensorflow as tf\n",
    "import numpy as np\n",
    "import pandas as pd\n",
    "from sklearn.metrics import confusion_matrix\n",
    "from PIL import Image\n",
    "import cv2\n",
    "import os\n",
    "from tqdm import tqdm\n",
    "from random import shuffle\n",
    "import time\n",
    "import math\n",
    "from datetime import timedelta\n",
    "from tensorflow.contrib.layers import dropout"
   ]
  },
  {
   "cell_type": "code",
   "execution_count": 2,
   "metadata": {},
   "outputs": [],
   "source": [
    "from nnfunc import *\n",
    "from myfunc import *"
   ]
  },
  {
   "cell_type": "code",
   "execution_count": 3,
   "metadata": {},
   "outputs": [],
   "source": [
    "def label_img(img):\n",
    "    word_label = img.split('.')[-3]\n",
    "    # conversion to one-hot array [cat,dog]\n",
    "    #                            [much cat, no dog]\n",
    "    if word_label == 'cat': return [0]\n",
    "    #                             [no cat, very doggo]\n",
    "    elif word_label == 'dog': return [1]"
   ]
  },
  {
   "cell_type": "code",
   "execution_count": 4,
   "metadata": {},
   "outputs": [],
   "source": [
    "# Create the data for the images and labels and save it into a .npy file\n",
    "def create_data():\n",
    "    data = [] \n",
    "    \n",
    "    for img in tqdm(os.listdir(DATA_DIR)):\n",
    "        label = label_img(img)\n",
    "        path = os.path.join(DATA_DIR, img)\n",
    "        img = Image.open(path)\n",
    "        img = np.array(img)\n",
    "        img = cv2.resize(img, (IMG_SIZE_PREPRO, IMG_SIZE_PREPRO))\n",
    "        data.append([np.array(img), np.array(label)])\n",
    "\n",
    "    shuffle(data)\n",
    "    np.save(SAVED_DATA_FILE, data)"
   ]
  },
  {
   "cell_type": "code",
   "execution_count": 5,
   "metadata": {},
   "outputs": [],
   "source": [
    "def split_image_label(data):\n",
    "    images = np.array([i[0] for i in data]).reshape(-1,IMG_SIZE_PREPRO,IMG_SIZE_PREPRO, NB_CHANNELS)\n",
    "    labels = np.array([i[1] for i in data])\n",
    "    return images, labels"
   ]
  },
  {
   "cell_type": "code",
   "execution_count": 6,
   "metadata": {},
   "outputs": [],
   "source": [
    "def augmented_train_image(image):\n",
    "    # Randomly crop the input image.\n",
    "    image = tf.random_crop(image, size=[IMG_SIZE, IMG_SIZE, NB_CHANNELS])\n",
    "    image = tf.image.random_flip_left_right(image)\n",
    "    image = tf.image.random_hue(image, max_delta=0.05)\n",
    "    image = tf.image.random_contrast(image, lower=0.3, upper=1.0)\n",
    "    image = tf.image.random_brightness(image, max_delta=0.2)\n",
    "    image = tf.image.random_saturation(image, lower=0.0, upper=2.0)\n",
    "    \n",
    "    # Limit the image pixels between [0, 1] in case of overflow.\n",
    "    image = tf.minimum(image, 1.0)\n",
    "    image = tf.maximum(image, 0.0)\n",
    "    \n",
    "    return image"
   ]
  },
  {
   "cell_type": "code",
   "execution_count": 7,
   "metadata": {},
   "outputs": [],
   "source": [
    "def augmented_test_image(image):\n",
    "    # Crop the input image around the centre so it is the same\n",
    "    # size as images that are randomly cropped during training.\n",
    "    image = tf.image.resize_image_with_crop_or_pad(image,\n",
    "                                                   target_height=IMG_SIZE,\n",
    "                                                   target_width=IMG_SIZE)\n",
    "    return image"
   ]
  },
  {
   "cell_type": "code",
   "execution_count": 8,
   "metadata": {},
   "outputs": [],
   "source": [
    "def pre_process_images(images, training):\n",
    "    # Use TensorFlow to loop over all the input images and call\n",
    "    # the function above which takes a single image as input.\n",
    "    images = tf.cond(training, \n",
    "                     lambda: tf.map_fn(lambda image: augmented_train_image(image), images),\n",
    "                     lambda: tf.map_fn(lambda image: augmented_test_image(image), images))\n",
    "\n",
    "    return images"
   ]
  },
  {
   "cell_type": "code",
   "execution_count": 9,
   "metadata": {},
   "outputs": [],
   "source": [
    "def optimize(epoch, train_images, train_labels, batch_size=64):\n",
    "    # Total number of batches in our training set.\n",
    "    nb_batches = int(np.ceil(len(train_images)/batch_size))\n",
    "    start_time = time.time()\n",
    "    nb_past_steps = session.run(global_step)\n",
    "\n",
    "    for i in range(nb_past_steps, nb_past_steps + epoch):\n",
    "        # Get a batch of training examples to feed and run the optimizer\n",
    "        current_batch_index = i % nb_batches\n",
    "        x_batch, y_true_batch = fetch_batch(train_images, train_labels, \n",
    "                                            batch_size, current_batch_index)\n",
    "        feed_dict_train = {x: x_batch, y_true: y_true_batch, training: True}\n",
    "        session.run(optimizer, feed_dict=feed_dict_train)\n",
    "\n",
    "        # Print status every 100 iterations.\n",
    "        if i % 100 == 99:\n",
    "            current_acc = session.run(accuracy, feed_dict=feed_dict_train)\n",
    "            current_loss = session.run(loss, feed_dict=feed_dict_train)\n",
    "            msg = \"Optimization Iteration: {0:>6}, Training Accuracy: {1:>6.1%}, Training Loss: {2:>6.01}\"\n",
    "            print(msg.format(i + 1, current_acc, current_loss))\n",
    " \n",
    "    #Time used \n",
    "    end_time = time.time()\n",
    "    time_dif = end_time - start_time\n",
    "    print(\"Time usage: \" + str(timedelta(seconds=int(round(time_dif)))))"
   ]
  },
  {
   "cell_type": "code",
   "execution_count": 10,
   "metadata": {},
   "outputs": [],
   "source": [
    "# Print the testing accuracy\n",
    "def testing_accuracy(test_images, test_labels, batch_size=64, confusion_matrix=False, example_errors=False):\n",
    "    # Number of images in the test-set\n",
    "    nb_test = len(test_images)\n",
    "    \n",
    "    #Array to store the predicted classes for each test image\n",
    "    cls_pred = np.zeros(shape=(nb_test,1), dtype=np.int)\n",
    "    \n",
    "    # Total number of batches in our testing set.\n",
    "    nb_batches = int(np.ceil(nb_test/batch_size))\n",
    "    \n",
    "    for i in tqdm(range(0, nb_batches)):\n",
    "        x_batch, y_true_batch = fetch_batch(test_images, test_labels, batch_size, i)\n",
    "        feed_dict = {x: x_batch, y_true: y_true_batch, training: False}\n",
    "        \n",
    "        # Calculate the predicted class for each test image\n",
    "        cls_pred[(i*batch_size):min((i*batch_size+batch_size), nb_test)] = session.run(y_pred_cls, feed_dict=feed_dict)\n",
    "        \n",
    "    #cls_pred = np.array([[i] for i in cls_pred])\n",
    "    correct = (test_labels == cls_pred)\n",
    "    correct_sum = correct.sum()\n",
    "    test_acc = float(correct_sum) / nb_test    \n",
    "    msg = \"Accuracy on Test-Set: {0:.1%} ({1} / {2})\"\n",
    "    print(msg.format(test_acc, correct_sum, nb_test))\n",
    "    \n",
    "    if confusion_matrix:\n",
    "        plot_confusion_matrix(cls_pred, test_labels)\n",
    "    if example_errors:\n",
    "        plot_example_errors(test_images, test_labels, cls_pred)"
   ]
  },
  {
   "cell_type": "code",
   "execution_count": 11,
   "metadata": {},
   "outputs": [],
   "source": [
    "# Test the model on one image\n",
    "def test_one_image(image, label, altered=False):\n",
    "    feed_dict = {x: [image], y_true: [label], training: altered}\n",
    "    pred = session.run(y_pred, feed_dict=feed_dict)\n",
    "    augmented_image = session.run(aug_images, feed_dict=feed_dict).reshape(IMG_SIZE,IMG_SIZE, NB_CHANNELS)\n",
    "    plot_image(augmented_image, label, pred)"
   ]
  },
  {
   "cell_type": "code",
   "execution_count": 12,
   "metadata": {},
   "outputs": [],
   "source": [
    "# Constant values 128-112, 64-60\n",
    "DATA_DIR = 'train/train'\n",
    "SAVED_DATA_FILE = 'binarydata16.npy'\n",
    "BATCH_SIZE = 64\n",
    "IMG_SIZE_PREPRO = 16\n",
    "IMG_SIZE = 9\n",
    "NB_CHANNELS = 3\n",
    "GREYSCALE = False\n",
    "LR = 1e-4"
   ]
  },
  {
   "cell_type": "code",
   "execution_count": 13,
   "metadata": {
    "scrolled": false
   },
   "outputs": [],
   "source": [
    "# Take the images from the folder, extract the label, same all the samples into a .npy file\n",
    "#create_data()"
   ]
  },
  {
   "cell_type": "code",
   "execution_count": 14,
   "metadata": {},
   "outputs": [],
   "source": [
    "# Load the data from the .npy file\n",
    "data = np.load(SAVED_DATA_FILE)"
   ]
  },
  {
   "cell_type": "code",
   "execution_count": 15,
   "metadata": {},
   "outputs": [],
   "source": [
    "# Splitting into train and test set\n",
    "train = data[:20000]\n",
    "test = data[20000:]"
   ]
  },
  {
   "cell_type": "code",
   "execution_count": 37,
   "metadata": {
    "scrolled": false
   },
   "outputs": [],
   "source": [
    "# Separating images and labels\n",
    "train_images, train_labels = split_image_label(train)\n",
    "test_images, test_labels = split_image_label(test)"
   ]
  },
  {
   "cell_type": "code",
   "execution_count": 38,
   "metadata": {},
   "outputs": [],
   "source": [
    "# Values of each pixel in 0-1\n",
    "train_images = train_images/255\n",
    "test_images = test_images/255"
   ]
  },
  {
   "cell_type": "code",
   "execution_count": 39,
   "metadata": {
    "scrolled": true
   },
   "outputs": [
    {
     "name": "stderr",
     "output_type": "stream",
     "text": [
      "Clipping input data to the valid range for imshow with RGB data ([0..1] for floats or [0..255] for integers).\n"
     ]
    },
    {
     "name": "stdout",
     "output_type": "stream",
     "text": [
      "True: [0]\n"
     ]
    },
    {
     "data": {
      "image/png": "[encoded data removed]",
      "text/plain": [
       "<Figure size 432x288 with 1 Axes>"
      ]
     },
     "metadata": {},
     "output_type": "display_data"
    }
   ],
   "source": [
    "num = 6\n",
    "plot_image(train_images[num], train_labels[num])"
   ]
  },
  {
   "cell_type": "code",
   "execution_count": 19,
   "metadata": {},
   "outputs": [],
   "source": [
    "x = tf.placeholder(tf.float32, shape=[None, IMG_SIZE_PREPRO, IMG_SIZE_PREPRO, NB_CHANNELS], name='x')\n",
    "y_true = tf.placeholder(tf.float32, shape=[None, 1], name='y_true')\n",
    "training = tf.placeholder(tf.bool)\n",
    "global_step = tf.Variable(initial_value=0, name='global_step', trainable=False)"
   ]
  },
  {
   "cell_type": "code",
   "execution_count": 20,
   "metadata": {},
   "outputs": [],
   "source": [
    "#Data augmentation\n",
    "aug_images = pre_process_images(images=x, training=training)\n",
    "\n",
    "#CNN\n",
    "layer_conv1 = conv_2d(aug_images, NB_CHANNELS, 5, 32, use_pooling=True)\n",
    "layer_conv2 = conv_2d(layer_conv1, 32, 5, 64, use_pooling=True)\n",
    "layer_conv3 = conv_2d(layer_conv2, 64, 5, 128, use_pooling=True)\n",
    "layer_conv4 = conv_2d(layer_conv3, 128, 5, 256, use_pooling=True)\n",
    "\n",
    "#FCNN\n",
    "layer_flat, num_features = flatten_layer(layer_conv4)\n",
    "layer_fc1 = fc_layer(layer_flat, num_features, 512, use_relu=True)\n",
    "layer_fc2 = fc_layer(dropout(layer_fc1, 0.8), 512, 1, use_relu=False)\n",
    "\n",
    "#prediction\n",
    "y_pred = tf.nn.sigmoid(layer_fc2)\n",
    "cross_entropy = tf.nn.sigmoid_cross_entropy_with_logits(logits=layer_fc2, labels=y_true)\n",
    "loss = tf.reduce_mean(cross_entropy)"
   ]
  },
  {
   "cell_type": "code",
   "execution_count": 21,
   "metadata": {},
   "outputs": [],
   "source": [
    "#optimization\n",
    "optimizer = tf.train.AdamOptimizer(learning_rate=LR).minimize(loss, global_step=global_step)"
   ]
  },
  {
   "cell_type": "code",
   "execution_count": 22,
   "metadata": {},
   "outputs": [],
   "source": [
    "# Performance measures for testing\n",
    "y_pred_cls = tf.round(y_pred)\n",
    "correct_prediction = tf.equal(y_pred_cls, y_true)\n",
    "accuracy = tf.reduce_mean(tf.cast(correct_prediction, tf.float32))"
   ]
  },
  {
   "cell_type": "code",
   "execution_count": 23,
   "metadata": {},
   "outputs": [],
   "source": [
    "#session\n",
    "saver = tf.train.Saver()\n",
    "session = tf.Session()\n",
    "session.run(tf.global_variables_initializer())"
   ]
  },
  {
   "cell_type": "code",
   "execution_count": 24,
   "metadata": {
    "scrolled": true
   },
   "outputs": [
    {
     "name": "stdout",
     "output_type": "stream",
     "text": [
      "Time usage: 0:00:13\n"
     ]
    }
   ],
   "source": [
    "optimize(50, train_images, train_labels, BATCH_SIZE)"
   ]
  },
  {
   "cell_type": "code",
   "execution_count": 25,
   "metadata": {
    "scrolled": false
   },
   "outputs": [
    {
     "name": "stderr",
     "output_type": "stream",
     "text": [
      "100%|██████████████████████████████████████████████████████████████████████████████████| 79/79 [00:02<00:00, 35.33it/s]\n"
     ]
    },
    {
     "name": "stdout",
     "output_type": "stream",
     "text": [
      "Accuracy on Test-Set: 50.0% (2522 / 5041)\n",
      "[[ 511 2041]\n",
      " [ 478 2011]]\n"
     ]
    },
    {
     "data": {
      "image/png": "[encoded data removed]",
      "text/plain": [
       "<Figure size 288x288 with 2 Axes>"
      ]
     },
     "metadata": {},
     "output_type": "display_data"
    },
    {
     "data": {
      "image/png": "[encoded data removed]",
      "text/plain": [
       "<Figure size 432x288 with 9 Axes>"
      ]
     },
     "metadata": {},
     "output_type": "display_data"
    }
   ],
   "source": [
    "# Testing\n",
    "testing_accuracy(test_images, test_labels, BATCH_SIZE, confusion_matrix=True, example_errors=True)"
   ]
  },
  {
   "cell_type": "code",
   "execution_count": 26,
   "metadata": {
    "scrolled": false
   },
   "outputs": [
    {
     "name": "stdout",
     "output_type": "stream",
     "text": [
      "True: [0], Pred: [[0.51409787]]\n"
     ]
    },
    {
     "data": {
      "image/png": "[encoded data removed]",
      "text/plain": [
       "<Figure size 432x288 with 1 Axes>"
      ]
     },
     "metadata": {},
     "output_type": "display_data"
    }
   ],
   "source": [
    "num = 8\n",
    "image = test_images[num]\n",
    "label = test_labels[num]\n",
    "test_one_image(image, label, True)"
   ]
  },
  {
   "cell_type": "code",
   "execution_count": null,
   "metadata": {
    "scrolled": true
   },
   "outputs": [
    {
     "name": "stdout",
     "output_type": "stream",
     "text": [
      "Optimization Iteration:    100, Training Accuracy:  56.2%\n",
      "Optimization Iteration:    200, Training Accuracy:  54.7%\n",
      "Optimization Iteration:    300, Training Accuracy:  60.9%\n",
      "Optimization Iteration:    400, Training Accuracy:  64.1%\n",
      "Optimization Iteration:    500, Training Accuracy:  70.3%\n",
      "Time usage: 0:19:21\n"
     ]
    },
    {
     "name": "stderr",
     "output_type": "stream",
     "text": [
      "100%|██████████████████████████████████████████████████████████████████████████████████| 79/79 [00:52<00:00,  1.50it/s]\n"
     ]
    },
    {
     "name": "stdout",
     "output_type": "stream",
     "text": [
      "Accuracy on Test-Set: 69.6% (3508 / 5041)\n",
      "Optimization Iteration:    600, Training Accuracy:  75.0%\n",
      "Optimization Iteration:    700, Training Accuracy:  62.5%\n",
      "Optimization Iteration:    800, Training Accuracy:  78.1%\n",
      "Optimization Iteration:    900, Training Accuracy:  67.2%\n",
      "Optimization Iteration:   1000, Training Accuracy:  68.8%\n",
      "Time usage: 0:18:53\n"
     ]
    },
    {
     "name": "stderr",
     "output_type": "stream",
     "text": [
      "100%|██████████████████████████████████████████████████████████████████████████████████| 79/79 [00:50<00:00,  1.58it/s]\n"
     ]
    },
    {
     "name": "stdout",
     "output_type": "stream",
     "text": [
      "Accuracy on Test-Set: 72.3% (3645 / 5041)\n",
      "Optimization Iteration:   1100, Training Accuracy:  73.4%\n",
      "Optimization Iteration:   1200, Training Accuracy:  67.2%\n",
      "Optimization Iteration:   1300, Training Accuracy:  73.4%\n",
      "Optimization Iteration:   1400, Training Accuracy:  73.4%\n",
      "Optimization Iteration:   1500, Training Accuracy:  76.6%\n",
      "Time usage: 0:18:52\n"
     ]
    },
    {
     "name": "stderr",
     "output_type": "stream",
     "text": [
      "100%|██████████████████████████████████████████████████████████████████████████████████| 79/79 [00:49<00:00,  1.58it/s]\n"
     ]
    },
    {
     "name": "stdout",
     "output_type": "stream",
     "text": [
      "Accuracy on Test-Set: 76.8% (3869 / 5041)\n",
      "Optimization Iteration:   1600, Training Accuracy:  59.4%\n",
      "Optimization Iteration:   1700, Training Accuracy:  73.4%\n",
      "Optimization Iteration:   1800, Training Accuracy:  65.6%\n",
      "Optimization Iteration:   1900, Training Accuracy:  78.1%\n",
      "Optimization Iteration:   2000, Training Accuracy:  67.2%\n",
      "Time usage: 0:18:51\n"
     ]
    },
    {
     "name": "stderr",
     "output_type": "stream",
     "text": [
      "100%|██████████████████████████████████████████████████████████████████████████████████| 79/79 [00:50<00:00,  1.58it/s]\n"
     ]
    },
    {
     "name": "stdout",
     "output_type": "stream",
     "text": [
      "Accuracy on Test-Set: 78.2% (3942 / 5041)\n",
      "Optimization Iteration:   2100, Training Accuracy:  73.4%\n",
      "Optimization Iteration:   2200, Training Accuracy:  84.4%\n",
      "Optimization Iteration:   2300, Training Accuracy:  73.4%\n",
      "Optimization Iteration:   2400, Training Accuracy:  64.1%\n",
      "Optimization Iteration:   2500, Training Accuracy:  70.3%\n",
      "Time usage: 0:18:51\n"
     ]
    },
    {
     "name": "stderr",
     "output_type": "stream",
     "text": [
      "100%|██████████████████████████████████████████████████████████████████████████████████| 79/79 [00:50<00:00,  1.58it/s]\n"
     ]
    },
    {
     "name": "stdout",
     "output_type": "stream",
     "text": [
      "Accuracy on Test-Set: 80.0% (4031 / 5041)\n",
      "Optimization Iteration:   2600, Training Accuracy:  81.2%\n",
      "Optimization Iteration:   2700, Training Accuracy:  82.8%\n",
      "Optimization Iteration:   2800, Training Accuracy:  70.3%\n",
      "Optimization Iteration:   2900, Training Accuracy:  71.9%\n",
      "Optimization Iteration:   3000, Training Accuracy:  70.3%\n",
      "Time usage: 0:18:48\n"
     ]
    },
    {
     "name": "stderr",
     "output_type": "stream",
     "text": [
      "100%|██████████████████████████████████████████████████████████████████████████████████| 79/79 [00:49<00:00,  1.58it/s]\n"
     ]
    },
    {
     "name": "stdout",
     "output_type": "stream",
     "text": [
      "Accuracy on Test-Set: 80.2% (4042 / 5041)\n",
      "Optimization Iteration:   3100, Training Accuracy:  76.6%\n",
      "Optimization Iteration:   3200, Training Accuracy:  90.6%\n",
      "Optimization Iteration:   3300, Training Accuracy:  85.9%\n",
      "Optimization Iteration:   3400, Training Accuracy:  82.8%\n",
      "Optimization Iteration:   3500, Training Accuracy:  75.0%\n",
      "Time usage: 0:18:48\n"
     ]
    },
    {
     "name": "stderr",
     "output_type": "stream",
     "text": [
      "100%|██████████████████████████████████████████████████████████████████████████████████| 79/79 [00:49<00:00,  1.58it/s]\n"
     ]
    },
    {
     "name": "stdout",
     "output_type": "stream",
     "text": [
      "Accuracy on Test-Set: 81.8% (4124 / 5041)\n",
      "Optimization Iteration:   3600, Training Accuracy:  78.1%\n",
      "Optimization Iteration:   3700, Training Accuracy:  82.8%\n",
      "Optimization Iteration:   3800, Training Accuracy:  84.4%\n",
      "Optimization Iteration:   3900, Training Accuracy:  78.1%\n",
      "Optimization Iteration:   4000, Training Accuracy:  84.4%\n",
      "Time usage: 0:18:55\n"
     ]
    },
    {
     "name": "stderr",
     "output_type": "stream",
     "text": [
      "100%|██████████████████████████████████████████████████████████████████████████████████| 79/79 [00:50<00:00,  1.58it/s]\n"
     ]
    },
    {
     "name": "stdout",
     "output_type": "stream",
     "text": [
      "Accuracy on Test-Set: 81.4% (4102 / 5041)\n",
      "Optimization Iteration:   4100, Training Accuracy:  81.2%\n",
      "Optimization Iteration:   4200, Training Accuracy:  76.6%\n",
      "Optimization Iteration:   4300, Training Accuracy:  84.4%\n",
      "Optimization Iteration:   4400, Training Accuracy:  79.7%\n",
      "Optimization Iteration:   4500, Training Accuracy:  85.9%\n",
      "Time usage: 0:18:52\n"
     ]
    },
    {
     "name": "stderr",
     "output_type": "stream",
     "text": [
      "100%|██████████████████████████████████████████████████████████████████████████████████| 79/79 [00:50<00:00,  1.58it/s]\n"
     ]
    },
    {
     "name": "stdout",
     "output_type": "stream",
     "text": [
      "Accuracy on Test-Set: 83.5% (4207 / 5041)\n",
      "Optimization Iteration:   4600, Training Accuracy:  79.7%\n",
      "Optimization Iteration:   4700, Training Accuracy:  82.8%\n",
      "Optimization Iteration:   4800, Training Accuracy:  85.9%\n",
      "Optimization Iteration:   4900, Training Accuracy:  81.2%\n",
      "Optimization Iteration:   5000, Training Accuracy:  82.8%\n",
      "Time usage: 0:18:51\n"
     ]
    },
    {
     "name": "stderr",
     "output_type": "stream",
     "text": [
      "100%|██████████████████████████████████████████████████████████████████████████████████| 79/79 [00:49<00:00,  1.58it/s]\n"
     ]
    },
    {
     "name": "stdout",
     "output_type": "stream",
     "text": [
      "Accuracy on Test-Set: 84.5% (4260 / 5041)\n",
      "Optimization Iteration:   5100, Training Accuracy:  87.5%\n",
      "Optimization Iteration:   5200, Training Accuracy:  85.9%\n",
      "Optimization Iteration:   5300, Training Accuracy:  90.6%\n",
      "Optimization Iteration:   5400, Training Accuracy:  79.7%\n",
      "Optimization Iteration:   5500, Training Accuracy:  82.8%\n",
      "Time usage: 0:18:50\n"
     ]
    },
    {
     "name": "stderr",
     "output_type": "stream",
     "text": [
      "100%|██████████████████████████████████████████████████████████████████████████████████| 79/79 [00:49<00:00,  1.58it/s]\n"
     ]
    },
    {
     "name": "stdout",
     "output_type": "stream",
     "text": [
      "Accuracy on Test-Set: 85.1% (4290 / 5041)\n",
      "Optimization Iteration:   5600, Training Accuracy:  81.2%\n",
      "Optimization Iteration:   5700, Training Accuracy:  76.6%\n",
      "Optimization Iteration:   5800, Training Accuracy:  89.1%\n",
      "Optimization Iteration:   5900, Training Accuracy:  85.9%\n",
      "Optimization Iteration:   6000, Training Accuracy:  89.1%\n",
      "Time usage: 0:18:51\n"
     ]
    },
    {
     "name": "stderr",
     "output_type": "stream",
     "text": [
      "100%|██████████████████████████████████████████████████████████████████████████████████| 79/79 [00:50<00:00,  1.58it/s]\n"
     ]
    },
    {
     "name": "stdout",
     "output_type": "stream",
     "text": [
      "Accuracy on Test-Set: 85.8% (4325 / 5041)\n",
      "Optimization Iteration:   6100, Training Accuracy:  82.8%\n",
      "Optimization Iteration:   6200, Training Accuracy:  89.1%\n",
      "Optimization Iteration:   6300, Training Accuracy:  90.6%\n",
      "Optimization Iteration:   6400, Training Accuracy:  90.6%\n",
      "Optimization Iteration:   6500, Training Accuracy:  85.9%\n",
      "Time usage: 0:18:52\n"
     ]
    },
    {
     "name": "stderr",
     "output_type": "stream",
     "text": [
      "100%|██████████████████████████████████████████████████████████████████████████████████| 79/79 [00:50<00:00,  1.58it/s]\n"
     ]
    },
    {
     "name": "stdout",
     "output_type": "stream",
     "text": [
      "Accuracy on Test-Set: 86.9% (4380 / 5041)\n",
      "Optimization Iteration:   6600, Training Accuracy:  84.4%\n",
      "Optimization Iteration:   6700, Training Accuracy:  85.9%\n",
      "Optimization Iteration:   6800, Training Accuracy:  84.4%\n",
      "Optimization Iteration:   6900, Training Accuracy:  93.8%\n",
      "Optimization Iteration:   7000, Training Accuracy:  79.7%\n",
      "Time usage: 0:18:51\n"
     ]
    },
    {
     "name": "stderr",
     "output_type": "stream",
     "text": [
      "100%|██████████████████████████████████████████████████████████████████████████████████| 79/79 [00:50<00:00,  1.58it/s]\n"
     ]
    },
    {
     "name": "stdout",
     "output_type": "stream",
     "text": [
      "Accuracy on Test-Set: 86.2% (4344 / 5041)\n",
      "Optimization Iteration:   7100, Training Accuracy:  89.1%\n",
      "Optimization Iteration:   7200, Training Accuracy:  95.3%\n",
      "Optimization Iteration:   7300, Training Accuracy:  81.2%\n",
      "Optimization Iteration:   7400, Training Accuracy:  93.8%\n",
      "Optimization Iteration:   7500, Training Accuracy:  81.2%\n",
      "Time usage: 0:18:51\n"
     ]
    },
    {
     "name": "stderr",
     "output_type": "stream",
     "text": [
      "100%|██████████████████████████████████████████████████████████████████████████████████| 79/79 [00:49<00:00,  1.59it/s]\n"
     ]
    },
    {
     "name": "stdout",
     "output_type": "stream",
     "text": [
      "Accuracy on Test-Set: 86.6% (4366 / 5041)\n",
      "Optimization Iteration:   7600, Training Accuracy:  89.1%\n",
      "Optimization Iteration:   7700, Training Accuracy:  92.2%\n",
      "Optimization Iteration:   7800, Training Accuracy:  87.5%\n",
      "Optimization Iteration:   7900, Training Accuracy:  87.5%\n"
     ]
    }
   ],
   "source": [
    "for i in range(50):\n",
    "    optimize(500)\n",
    "    testing_accuracy()"
   ]
  },
  {
   "cell_type": "code",
   "execution_count": 38,
   "metadata": {},
   "outputs": [
    {
     "name": "stdout",
     "output_type": "stream",
     "text": [
      "INFO:tensorflow:Restoring parameters from saved_model/classification_64p_32c_1024f_3k_color_allpix_4conv-50000\n"
     ]
    }
   ],
   "source": [
    "# Restore model\n",
    "saver.restore(session, 'saved_model/first_try')"
   ]
  },
  {
   "cell_type": "code",
   "execution_count": 41,
   "metadata": {},
   "outputs": [
    {
     "data": {
      "text/plain": [
       "'saved_model/classification_75p_32c_1024f_3k_color_allpix_2conv-0'"
      ]
     },
     "execution_count": 41,
     "metadata": {},
     "output_type": "execute_result"
    }
   ],
   "source": [
    "# Save model\n",
    "saver.save(session, 'saved_model/classification_75p_32c_1024f_3k_color_allpix_2conv', global_step=global_step)"
   ]
  }
 ],
 "metadata": {
  "kernelspec": {
   "display_name": "Python 3",
   "language": "python",
   "name": "python3"
  },
  "language_info": {
   "codemirror_mode": {
    "name": "ipython",
    "version": 3
   },
   "file_extension": ".py",
   "mimetype": "text/x-python",
   "name": "python",
   "nbconvert_exporter": "python",
   "pygments_lexer": "ipython3",
   "version": "3.5.5"
  }
 },
 "nbformat": 4,
 "nbformat_minor": 2
}

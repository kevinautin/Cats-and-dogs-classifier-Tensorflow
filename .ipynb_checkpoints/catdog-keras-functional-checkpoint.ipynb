{
 "cells": [
  {
   "cell_type": "code",
   "execution_count": 1,
   "metadata": {
    "scrolled": true
   },
   "outputs": [
    {
     "name": "stdout",
     "output_type": "stream",
     "text": [
      "WARNING:tensorflow:From C:\\Users\\kevinautin\\Anaconda3\\lib\\site-packages\\tensorflow\\contrib\\learn\\python\\learn\\datasets\\base.py:198: retry (from tensorflow.contrib.learn.python.learn.datasets.base) is deprecated and will be removed in a future version.\n",
      "Instructions for updating:\n",
      "Use the retry module or similar alternatives.\n"
     ]
    },
    {
     "name": "stderr",
     "output_type": "stream",
     "text": [
      "Using TensorFlow backend.\n"
     ]
    }
   ],
   "source": [
    "#Imports\n",
    "%matplotlib inline\n",
    "import matplotlib.pyplot as plt\n",
    "import tensorflow as tf\n",
    "import numpy as np\n",
    "import pandas as pd\n",
    "from sklearn.metrics import confusion_matrix\n",
    "from PIL import Image\n",
    "import cv2\n",
    "import os\n",
    "from tqdm import tqdm\n",
    "from random import shuffle\n",
    "import time\n",
    "import math\n",
    "from datetime import timedelta\n",
    "from tensorflow.contrib.layers import dropout\n",
    "from keras.layers import SpatialDropout2D\n",
    "import prettytensor as pt\n",
    "\n",
    "# from tf.keras.models import Sequential  # This does not work!\n",
    "from tensorflow.python.keras.models import Sequential\n",
    "from tensorflow.python.keras.layers import InputLayer, Input\n",
    "from tensorflow.python.keras.layers import Reshape, MaxPooling2D\n",
    "from tensorflow.python.keras.layers import Conv2D, Dense, Flatten"
   ]
  },
  {
   "cell_type": "code",
   "execution_count": 2,
   "metadata": {},
   "outputs": [],
   "source": [
    "from train_test import *\n",
    "from nnfunc import *"
   ]
  },
  {
   "cell_type": "code",
   "execution_count": 3,
   "metadata": {},
   "outputs": [],
   "source": [
    "def label_img(img):\n",
    "    word_label = img.split('.')[-3]\n",
    "    # conversion to one-hot array [cat,dog]\n",
    "    #                            [much cat, no dog]\n",
    "    if word_label == 'cat': return [1,0]\n",
    "    #                             [no cat, very doggo]\n",
    "    elif word_label == 'dog': return [0,1]"
   ]
  },
  {
   "cell_type": "code",
   "execution_count": 4,
   "metadata": {},
   "outputs": [],
   "source": [
    "# Create the data for the images and labels and save it into a .npy file\n",
    "def create_data():\n",
    "    data = [] \n",
    "    \n",
    "    for img in tqdm(os.listdir(DATA_DIR)):\n",
    "        label = label_img(img)\n",
    "        path = os.path.join(DATA_DIR, img)\n",
    "        img = Image.open(path)\n",
    "        img = np.array(img)\n",
    "        img = cv2.resize(img, (IMG_SIZE_PREPRO, IMG_SIZE_PREPRO))\n",
    "        data.append([np.array(img), np.array(label)])\n",
    "\n",
    "    shuffle(data)\n",
    "    np.save(SAVED_DATA_FILE, data)"
   ]
  },
  {
   "cell_type": "code",
   "execution_count": 5,
   "metadata": {},
   "outputs": [],
   "source": [
    "def split_image_label(data):\n",
    "    images = np.array([i[0] for i in data]).reshape(-1,IMG_SIZE_PREPRO,IMG_SIZE_PREPRO, NB_CHANNELS)\n",
    "    labels = np.array([i[1] for i in data])\n",
    "    return images, labels"
   ]
  },
  {
   "cell_type": "code",
   "execution_count": 7,
   "metadata": {},
   "outputs": [],
   "source": [
    "# Constant values 128-112, 64-60\n",
    "DATA_DIR = 'train/train'\n",
    "SAVED_DATA_FILE = 'data16.npy'\n",
    "BATCH_SIZE = 64\n",
    "IMG_SIZE_PREPRO = 16\n",
    "IMG_SIZE = 9\n",
    "NB_CHANNELS = 3\n",
    "GREYSCALE = False\n",
    "LR = 1e-4"
   ]
  },
  {
   "cell_type": "code",
   "execution_count": 8,
   "metadata": {
    "scrolled": false
   },
   "outputs": [],
   "source": [
    "# Take the images from the folder, extract the label, same all the samples into a .npy file\n",
    "#create_data()"
   ]
  },
  {
   "cell_type": "code",
   "execution_count": 9,
   "metadata": {},
   "outputs": [],
   "source": [
    "# Load the data from the .npy file\n",
    "data = np.load(SAVED_DATA_FILE)"
   ]
  },
  {
   "cell_type": "code",
   "execution_count": 10,
   "metadata": {},
   "outputs": [],
   "source": [
    "# Splitting into train and test set\n",
    "train = data[:20000]\n",
    "test = data[20000:]"
   ]
  },
  {
   "cell_type": "code",
   "execution_count": 11,
   "metadata": {
    "scrolled": false
   },
   "outputs": [],
   "source": [
    "# Separating images and labels\n",
    "train_images, train_labels = split_image_label(train)\n",
    "test_images, test_labels = split_image_label(test)"
   ]
  },
  {
   "cell_type": "code",
   "execution_count": 12,
   "metadata": {},
   "outputs": [],
   "source": [
    "train_images = train_images/255\n",
    "test_images = test_images/255"
   ]
  },
  {
   "cell_type": "code",
   "execution_count": 13,
   "metadata": {
    "scrolled": false
   },
   "outputs": [
    {
     "data": {
      "text/plain": [
       "([array([2513., 2528.]), array([2528., 2513.])],\n",
       " array([0. , 0.5, 1. ]),\n",
       " <a list of 2 Lists of Patches objects>)"
      ]
     },
     "execution_count": 13,
     "metadata": {},
     "output_type": "execute_result"
    },
    {
     "data": {
      "image/png": "[encoded data removed]",
      "text/plain": [
       "<Figure size 432x288 with 1 Axes>"
      ]
     },
     "metadata": {},
     "output_type": "display_data"
    }
   ],
   "source": [
    "plt.hist(test_labels, bins = 2)"
   ]
  },
  {
   "cell_type": "code",
   "execution_count": 14,
   "metadata": {
    "scrolled": false
   },
   "outputs": [
    {
     "name": "stdout",
     "output_type": "stream",
     "text": [
      "True: [1 0]\n"
     ]
    },
    {
     "data": {
      "image/png": "[encoded data removed]",
      "text/plain": [
       "<Figure size 432x288 with 1 Axes>"
      ]
     },
     "metadata": {},
     "output_type": "display_data"
    }
   ],
   "source": [
    "num = 6\n",
    "plot_image(train_images[num], train_labels[num])"
   ]
  },
  {
   "cell_type": "code",
   "execution_count": 6,
   "metadata": {},
   "outputs": [],
   "source": [
    "inputs = Input(shape=(IMG_SIZE, IMG_SIZE, NB_CHANNELS))\n",
    "net = inputs\n",
    "net = Conv2D(32, 5, activation='relu', name='layer_conv1')(net)\n",
    "net = MaxPooling2D(pool_size=2, stride=2)(net)\n",
    "net = Conv2D(64, 5, activation='relu', name='layer_conv2')(net)\n",
    "net = MaxPooling2D(pool_size=2, stride=2)(net)\n",
    "net = Conv2D(128, 5, activation='relu', name='layer_conv3')(net)\n",
    "net = MaxPooling2D(pool_size=2, stride=2)(net)\n",
    "net = Conv2D(256, 5, activation='relu', name='layer_conv4')(net)\n",
    "net = MaxPooling2D(pool_size=2, stride=2)(net)\n",
    "net = Flatten()(net)\n",
    "net = Dense(512, activation='relu')(net)\n",
    "net = Dropout(0.5)(net)\n",
    "net = Dense(1, activation='sigmoid')(net)\n",
    "outputs = net"
   ]
  }
 ],
 "metadata": {
  "kernelspec": {
   "display_name": "Python 3",
   "language": "python",
   "name": "python3"
  },
  "language_info": {
   "codemirror_mode": {
    "name": "ipython",
    "version": 3
   },
   "file_extension": ".py",
   "mimetype": "text/x-python",
   "name": "python",
   "nbconvert_exporter": "python",
   "pygments_lexer": "ipython3",
   "version": "3.5.5"
  }
 },
 "nbformat": 4,
 "nbformat_minor": 2
}
